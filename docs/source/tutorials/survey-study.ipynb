{
 "cells": [
  {
   "cell_type": "markdown",
   "metadata": {},
   "source": [
    "# Survey Study: a tutorial\n",
    "\n",
    "This Jupyter notebook aims to help razorback users to compute impedance estimates from the data set shown in the paper in different ways for a two stage remote reference configuration:\n",
    "\n",
    "1- Ordinary Least Squares\n",
    "\n",
    "2- M-Estimator \n",
    "\n",
    "3- Bounded Influence \n",
    "\n",
    "This tutorial is designed for Metronix data format (.ats files).\n",
    "\n"
   ]
  },
  {
   "cell_type": "code",
   "execution_count": 1,
   "metadata": {},
   "outputs": [],
   "source": [
    "import razorback as rb # importing the razorback library\n",
    "import numpy as np # importing the numpy library as np\n",
    "import matplotlib.pyplot as plt # importing the matplotlib.pyplot library as plt\n",
    "%matplotlib inline\n"
   ]
  },
  {
   "cell_type": "code",
   "execution_count": 2,
   "metadata": {},
   "outputs": [],
   "source": [
    "# function for getting sensor information from .ats file header\n",
    "def sensor(ats_file):\n",
    "    header = rb.io.ats.read_ats_header(ats_file) #razorback function for ats file data importation\n",
    "    chan = header['channel_type'].decode()\n",
    "    stype = ''.join(c for c in header['sensor_type'].decode() if c.isprintable())\n",
    "    snum = header['sensor_serial_number']\n",
    "    sampling_rate = header['sampling_rate']\n",
    "    x1, y1, z1 = header['x1'], header['y1'], header['z1']\n",
    "    x2, y2, z2 = header['x2'], header['y2'], header['z2']\n",
    "    L = ((x1-x2)**2 + (y1-y2)**2 + (z1-z2)**2)**.5\n",
    "    return chan, L, stype, snum, sampling_rate"
   ]
  },
  {
   "cell_type": "code",
   "execution_count": 3,
   "metadata": {},
   "outputs": [],
   "source": [
    "# function for getting calibration function from sensor information\n",
    "def calibration(ats_file, name_converter=None):\n",
    "    chan, L, stype, snum, sampling_rate = sensor(ats_file)\n",
    "    if chan in ('Ex', 'Ey'):\n",
    "        return L\n",
    "    elif chan in ('Hx', 'Hy', 'Hz'):\n",
    "        calib_name = f\"{stype}{snum:03d}.txt\"\n",
    "        if name_converter:\n",
    "            calib_name = name_converter.get(calib_name, calib_name)\n",
    "        return rb.calibrations.metronix(calib_name, sampling_rate)\n",
    "    raise Exception(f\"Unknown channel name: {chan}\")"
   ]
  },
  {
   "cell_type": "markdown",
   "metadata": {},
   "source": [
    "The functions `sensor()` and `calibration()` will help to load the metadata of the data set (electric dipoles length, orientation, calibration files...).\n",
    "\n",
    "Other strategies for handling these metadata could be used, it's up to you to design your own.\n"
   ]
  },
  {
   "cell_type": "code",
   "execution_count": 4,
   "metadata": {},
   "outputs": [],
   "source": [
    "import glob\n",
    "\n",
    "## Create the inventory containing all the time series\n",
    "\n",
    "# - files is the list of data files to load\n",
    "# - pattern is applied to each data file to extract the strings {site} and {channel}\n",
    "# - tag_template create the tag for the data file using {site} and {channel}\n",
    "files = glob.glob(\"data/site*/*/*.ats\")\n",
    "pattern = \"*/site{site}/*/*_T{channel}_*.ats\"\n",
    "tag_template = \"site{site}_{channel}\"\n",
    "\n",
    "# correcting incorrect information about calibration files in file headers\n",
    "name_converter = {\n",
    "    'UNKN_H104.txt': 'MFS07104.txt',\n",
    "    'UNKN_H105.txt': 'MFS07105.txt',\n",
    "}\n",
    "\n",
    "# creating and filling the inventory\n",
    "inv = rb.Inventory()\n",
    "for fname, [tag] in rb.utils.tags_from_path(files, pattern, tag_template):\n",
    "    calib = calibration(fname, name_converter)  # getting calibration for data file\n",
    "    signal = rb.io.ats.load_ats([fname], [calib])  # loading data file\n",
    "    inv.append(rb.SignalSet({tag:0}, signal))  # tagging and storing the signal"
   ]
  },
  {
   "cell_type": "markdown",
   "metadata": {},
   "source": [
    "All the data are now loaded in `inventory`.\n",
    "We can use `inventory` to explore and handle the data set."
   ]
  },
  {
   "cell_type": "markdown",
   "metadata": {},
   "source": [
    "You can check the number of files in your inventory `inv`:"
   ]
  },
  {
   "cell_type": "code",
   "execution_count": 5,
   "metadata": {},
   "outputs": [
    {
     "data": {
      "text/plain": [
       "24"
      ]
     },
     "execution_count": 5,
     "metadata": {},
     "output_type": "execute_result"
    }
   ],
   "source": [
    "len(inv)"
   ]
  },
  {
   "cell_type": "markdown",
   "metadata": {},
   "source": [
    "You can display the tags/labels included in the inventory `inv`"
   ]
  },
  {
   "cell_type": "code",
   "execution_count": 6,
   "metadata": {},
   "outputs": [
    {
     "data": {
      "text/plain": [
       "{'site002_Ex',\n",
       " 'site002_Ey',\n",
       " 'site002_Hx',\n",
       " 'site002_Hy',\n",
       " 'site002_Hz',\n",
       " 'site004_Ex',\n",
       " 'site004_Ey',\n",
       " 'site004_Hx',\n",
       " 'site004_Hy',\n",
       " 'site004_Hz',\n",
       " 'site006_Ex',\n",
       " 'site006_Ey',\n",
       " 'site006_Hx',\n",
       " 'site006_Hy',\n",
       " 'site006_Hz',\n",
       " 'site009_Ex',\n",
       " 'site009_Ey',\n",
       " 'site009_Hx',\n",
       " 'site009_Hy',\n",
       " 'site009_Hz',\n",
       " 'site099_Hx',\n",
       " 'site099_Hy',\n",
       " 'site100_Hx',\n",
       " 'site100_Hy'}"
      ]
     },
     "execution_count": 6,
     "metadata": {},
     "output_type": "execute_result"
    }
   ],
   "source": [
    "inv.tags"
   ]
  },
  {
   "cell_type": "markdown",
   "metadata": {},
   "source": [
    "Creating (using `pack()`) and showing (using `print()`) the SignalSet object for site004 only:"
   ]
  },
  {
   "cell_type": "code",
   "execution_count": 7,
   "metadata": {
    "scrolled": true
   },
   "outputs": [
    {
     "name": "stdout",
     "output_type": "stream",
     "text": [
      "SignalSet: 5 channels, 1 run\n",
      "tags: {'site004_Ex': (0,), 'site004_Ey': (1,), \n",
      "       'site004_Hx': (2,), 'site004_Hy': (3,), \n",
      "       'site004_Hz': (4,)}\n",
      "----------  -------------------  -------------------\n",
      "  sampling                start                 stop\n",
      "       128  2016-04-28 19:00:00  2016-04-29 07:00:00\n",
      "----------  -------------------  -------------------\n"
     ]
    }
   ],
   "source": [
    "print(inv.filter('site004*').pack())"
   ]
  },
  {
   "cell_type": "markdown",
   "metadata": {},
   "source": [
    "Same operation for site099 (magnetic remote reference only):"
   ]
  },
  {
   "cell_type": "code",
   "execution_count": 8,
   "metadata": {},
   "outputs": [
    {
     "name": "stdout",
     "output_type": "stream",
     "text": [
      "SignalSet: 2 channels, 1 run\n",
      "tags: {'site099_Hx': (0,), 'site099_Hy': (1,)}\n",
      "----------  -------------------  -------------------\n",
      "  sampling                start                 stop\n",
      "       128  2016-04-28 19:00:00  2016-04-29 17:59:00\n",
      "----------  -------------------  -------------------\n"
     ]
    }
   ],
   "source": [
    "print(inv.filter('site099*').pack())"
   ]
  },
  {
   "cell_type": "markdown",
   "metadata": {},
   "source": [
    "Creating and showing the SignalSet object content for the full inventory (including sites 002, 004, 006, 009, 100, 099).\n",
    "The full data set is reduced to maximal synchronous time section. The `pack()` function is narrowing the time range to the window of common synchronousness of the whole inventory."
   ]
  },
  {
   "cell_type": "code",
   "execution_count": 9,
   "metadata": {
    "scrolled": true
   },
   "outputs": [
    {
     "name": "stdout",
     "output_type": "stream",
     "text": [
      "SignalSet: 24 channels, 1 run\n",
      "tags: {'site002_Ex': (0,), 'site002_Ey': (1,), \n",
      "       'site002_Hx': (2,), 'site002_Hy': (3,), \n",
      "       'site002_Hz': (4,), 'site004_Ex': (5,), \n",
      "       'site004_Ey': (6,), 'site004_Hx': (7,), \n",
      "       'site004_Hy': (8,), 'site004_Hz': (9,), \n",
      "       'site006_Ex': (10,), 'site006_Ey': (11,), \n",
      "       'site006_Hx': (12,), 'site006_Hy': (13,), \n",
      "       'site006_Hz': (14,), 'site009_Ex': (15,), \n",
      "       'site009_Ey': (16,), 'site009_Hx': (17,), \n",
      "       'site009_Hy': (18,), 'site009_Hz': (19,), \n",
      "       'site099_Hx': (20,), 'site099_Hy': (21,), \n",
      "       'site100_Hx': (22,), 'site100_Hy': (23,)}\n",
      "----------  -------------------  -------------------\n",
      "  sampling                start                 stop\n",
      "       128  2016-04-28 19:00:00  2016-04-29 04:00:05\n",
      "----------  -------------------  -------------------\n"
     ]
    }
   ],
   "source": [
    "print(inv.pack())"
   ]
  },
  {
   "cell_type": "code",
   "execution_count": 10,
   "metadata": {},
   "outputs": [],
   "source": [
    "# Function to prepare signal set from inventory to get it ready for TF estimation procedure\n",
    "from itertools import chain\n",
    "\n",
    "def prepare_signalset(inventory, local_site, remote_sites):\n",
    "    patterns = (f\"{e}*\" for e in [local_site, *remote_sites])\n",
    "    signalset = inventory.filter(*patterns).pack()\n",
    "    tags = signalset.tags\n",
    "    tags[\"E\"] = tags[f\"{local_site}_Ex\"] + tags[f\"{local_site}_Ey\"]\n",
    "    tags[\"B\"] = tags[f\"{local_site}_Hx\"] + tags[f\"{local_site}_Hy\"]\n",
    "    if remote_sites:\n",
    "        remote_names = tags.filter(*chain(*(\n",
    "            (f\"{e}_Hx\", f\"{e}_Hy\") for e in remote_sites\n",
    "        )))\n",
    "        tags[\"Bremote\"] = sum((tags[n] for n in remote_names), ())\n",
    "    return signalset"
   ]
  },
  {
   "cell_type": "markdown",
   "metadata": {},
   "source": [
    "The function `prepare_signalset()` build the SignalSet needed for processing a given `local_site` along with some `remote_sites`.\n",
    "\n",
    "The function starts by extracting the channels of interest and `pack` them in a SignalSet.\n",
    "Then that signaset is enriched with specific tags (`'E'`, `'B'` and `'Bremote'`) that will be used later in the TF estimate function."
   ]
  },
  {
   "cell_type": "markdown",
   "metadata": {},
   "source": [
    "Showing the SignalSet object with `'E'`, `'B'` and `'Bremote'` tags for processing site004 using sites 100 and 099 as remote references"
   ]
  },
  {
   "cell_type": "code",
   "execution_count": 11,
   "metadata": {
    "scrolled": true
   },
   "outputs": [
    {
     "name": "stdout",
     "output_type": "stream",
     "text": [
      "SignalSet: 9 channels, 1 run\n",
      "tags: {'site004_Ex': (0,), 'site004_Ey': (1,), \n",
      "       'site004_Hx': (2,), 'site004_Hy': (3,), \n",
      "       'site004_Hz': (4,), 'site099_Hx': (5,), \n",
      "       'site099_Hy': (6,), 'site100_Hx': (7,), \n",
      "       'site100_Hy': (8,), 'B': (2, 3), \n",
      "       'E': (0, 1), 'Bremote': (8, 6, 5, 7)}\n",
      "----------  -------------------  -------------------\n",
      "  sampling                start                 stop\n",
      "       128  2016-04-28 19:00:00  2016-04-29 07:00:00\n",
      "----------  -------------------  -------------------\n"
     ]
    }
   ],
   "source": [
    "print(prepare_signalset(inv, 'site004', ['site100', 'site099']))"
   ]
  },
  {
   "cell_type": "markdown",
   "metadata": {},
   "source": [
    "Defining a frequency array in logscale for TF computation"
   ]
  },
  {
   "cell_type": "code",
   "execution_count": 12,
   "metadata": {},
   "outputs": [
    {
     "name": "stdout",
     "output_type": "stream",
     "text": [
      "[1.00000000e-03 1.39742149e-03 1.95278683e-03 2.72886629e-03\n",
      " 3.81337640e-03 5.32889414e-03 7.44671121e-03 1.04061943e-02\n",
      " 1.45418396e-02 2.03210792e-02 2.83971128e-02 3.96827358e-02\n",
      " 5.54535079e-02 7.74919238e-02 1.08288880e-01 1.51325208e-01\n",
      " 2.11465098e-01 2.95505873e-01 4.12946259e-01 5.77059977e-01\n",
      " 8.06396015e-01 1.12687512e+00 1.57471952e+00 2.20054690e+00\n",
      " 3.07509153e+00 4.29719900e+00 6.00499825e+00 8.39151362e+00\n",
      " 1.17264815e+01 1.63868373e+01 2.28993186e+01 3.20000000e+01]\n"
     ]
    }
   ],
   "source": [
    "# Definining your output frequency in logscale / you can reduce nb_freq if you want to make a quick test\n",
    "# as sampling frequency is 128, we go up to half a nyquist frequency which is 32 Hz\n",
    "# recordings are long enough to try to reach 1 mHz\n",
    "nb_freq=32\n",
    "freq = np.logspace(-3, np.log10(32), nb_freq)\n",
    "print(freq)"
   ]
  },
  {
   "cell_type": "markdown",
   "metadata": {},
   "source": [
    "### Computing two-stage OLS Impedance estimate for site004 with sites 100 and 99 as remote references "
   ]
  },
  {
   "cell_type": "markdown",
   "metadata": {},
   "source": [
    "First stage: a regression is performed to estimate the TF between magnetic field at site 4 and magnetic field at (sites 99 + 100) . Second Stage: the first stage TF is used to produce a synthetic magnetic field and a second regression is operated between the latter and site 4 electric field.  "
   ]
  },
  {
   "cell_type": "code",
   "execution_count": 13,
   "metadata": {},
   "outputs": [
    {
     "name": "stdout",
     "output_type": "stream",
     "text": [
      "SignalSet: 9 channels, 1 run\n",
      "tags: {'site004_Ex': (0,), 'site004_Ey': (1,), \n",
      "       'site004_Hx': (2,), 'site004_Hy': (3,), \n",
      "       'site004_Hz': (4,), 'site099_Hx': (5,), \n",
      "       'site099_Hy': (6,), 'site100_Hx': (7,), \n",
      "       'site100_Hy': (8,), 'B': (2, 3), \n",
      "       'E': (0, 1), 'Bremote': (8, 6, 5, 7)}\n",
      "----------  -------------------  -------------------\n",
      "  sampling                start                 stop\n",
      "       128  2016-04-28 19:00:00  2016-04-29 07:00:00\n",
      "----------  -------------------  -------------------\n",
      "starting frequency 0.001\n",
      "starting frequency 0.00139742\n",
      "starting frequency 0.00195279\n",
      "starting frequency 0.00272887\n",
      "starting frequency 0.00381338\n",
      "starting frequency 0.00532889\n",
      "starting frequency 0.00744671\n",
      "starting frequency 0.0104062\n",
      "starting frequency 0.0145418\n",
      "starting frequency 0.0203211\n",
      "starting frequency 0.0283971\n",
      "starting frequency 0.0396827\n",
      "starting frequency 0.0554535\n",
      "starting frequency 0.0774919\n",
      "starting frequency 0.108289\n",
      "starting frequency 0.151325\n",
      "starting frequency 0.211465\n",
      "starting frequency 0.295506\n",
      "starting frequency 0.412946\n",
      "starting frequency 0.57706\n",
      "starting frequency 0.806396\n",
      "starting frequency 1.12688\n",
      "starting frequency 1.57472\n",
      "starting frequency 2.20055\n",
      "starting frequency 3.07509\n",
      "starting frequency 4.2972\n",
      "starting frequency 6.005\n",
      "starting frequency 8.39151\n",
      "starting frequency 11.7265\n",
      "starting frequency 16.3868\n",
      "starting frequency 22.8993\n",
      "starting frequency 32\n",
      "(32, 2, 2)\n"
     ]
    }
   ],
   "source": [
    "sig = prepare_signalset(inv, 'site004', ['site100', 'site099'])\n",
    "print(sig)\n",
    "ImpOLS = rb.utils.impedance(sig, freq ,remote='Bremote' )\n",
    "print(ImpOLS.impedance.shape)"
   ]
  },
  {
   "cell_type": "markdown",
   "metadata": {},
   "source": [
    "Showing typical apparent resistivity and phase results using matplotlib"
   ]
  },
  {
   "cell_type": "code",
   "execution_count": 14,
   "metadata": {},
   "outputs": [
    {
     "name": "stderr",
     "output_type": "stream",
     "text": [
      "<ipython-input-14-d5d0ebee0674>:5: RuntimeWarning: invalid value encountered in arcsin\n",
      "  rad_err = np.arcsin(res.error/abs(res.impedance))\n"
     ]
    },
    {
     "data": {
      "text/plain": [
       "(-180.0, 180.0)"
      ]
     },
     "execution_count": 14,
     "metadata": {},
     "output_type": "execute_result"
    },
    {
     "data": {
      "image/png": "[encoded data removed]",
      "text/plain": [
       "<Figure size 432x288 with 2 Axes>"
      ]
     },
     "metadata": {
      "needs_background": "light"
     },
     "output_type": "display_data"
    }
   ],
   "source": [
    "res = ImpOLS\n",
    "rho = 1e12 * np.abs(res.impedance)**2 / freq[:, None, None]\n",
    "rho_err = 1e12 * np.abs(res.error)**2 / freq[:, None, None]\n",
    "phi = np.angle(res.impedance, deg=True)\n",
    "rad_err = np.arcsin(res.error/abs(res.impedance))\n",
    "rad_err[np.isnan(rad_err)] = np.pi\n",
    "phi_err = np.rad2deg(rad_err)\n",
    "\n",
    "fig = plt.figure()\n",
    "ax = plt.subplot(2, 1, 1)\n",
    "ax.set_xscale(\"log\", nonpositive='clip')\n",
    "ax.set_yscale(\"log\", nonpositive='clip')\n",
    "ax.errorbar(freq, rho[:,0,0], yerr=rho_err[:,0,0], fmt='k.', label=r'$\\rho_{xx}$')\n",
    "ax.errorbar(freq, rho[:,1,1], yerr=rho_err[:,1,1], fmt='g.', label=r'$\\rho_{yy}$')\n",
    "ax.errorbar(freq, rho[:,0,1], yerr=rho_err[:,0,1], fmt='r.', label=r'$\\rho_{xy}$')\n",
    "ax.errorbar(freq, rho[:,1,0], yerr=rho_err[:,1,0], fmt='b.', label=r'$\\rho_{yx}$')\n",
    "plt.xlabel('freq')\n",
    "plt.ylabel(r'apparent resistivity  $\\rho$ ($\\Omega.m$)');\n",
    "plt.legend()\n",
    "\n",
    "plt.title('Site 002 results in 2-stage RR OLS\\n  configuration with sites 99 and 100 as remote references')\n",
    "ax = plt.subplot(2, 1, 2)\n",
    "ax.set_xscale(\"log\", nonpositive='clip')\n",
    "ax.errorbar(freq, phi[:,0,0], yerr=phi_err[:,0,0], fmt='k.', label=r'$\\phi_{xx}$')\n",
    "ax.errorbar(freq, phi[:,1,1], yerr=phi_err[:,1,1], fmt='g.', label=r'$\\phi_{yy}$')\n",
    "ax.errorbar(freq, phi[:,0,1], yerr=phi_err[:,0,1], fmt='r.', label=r'$\\phi_{xy}$')\n",
    "ax.errorbar(freq, phi[:,1,0], yerr=phi_err[:,1,0], fmt='b.', label=r'$\\phi_{yx}$')\n",
    "plt.xlabel('freq')\n",
    "plt.ylabel(r'phase $\\phi$ (degrees)');\n",
    "plt.legend()\n",
    "plt.ylim(-180, 180)\n"
   ]
  },
  {
   "cell_type": "markdown",
   "metadata": {},
   "source": [
    "### Now computing 2-stage M-Estimator Transfer Function for site004 with sites 100 and 99 as remote references "
   ]
  },
  {
   "cell_type": "code",
   "execution_count": 15,
   "metadata": {},
   "outputs": [
    {
     "name": "stdout",
     "output_type": "stream",
     "text": [
      "SignalSet: 9 channels, 1 run\n",
      "tags: {'site004_Ex': (0,), 'site004_Ey': (1,), \n",
      "       'site004_Hx': (2,), 'site004_Hy': (3,), \n",
      "       'site004_Hz': (4,), 'site099_Hx': (5,), \n",
      "       'site099_Hy': (6,), 'site100_Hx': (7,), \n",
      "       'site100_Hy': (8,), 'B': (2, 3), \n",
      "       'E': (0, 1), 'Bremote': (8, 6, 5, 7)}\n",
      "----------  -------------------  -------------------\n",
      "  sampling                start                 stop\n",
      "       128  2016-04-28 19:00:00  2016-04-29 07:00:00\n",
      "----------  -------------------  -------------------\n",
      "starting frequency 0.001\n",
      "starting frequency 0.00139742\n",
      "failed to converge (maxit=100). while processing step 2 (weighting=1).\n",
      "starting frequency 0.00195279\n",
      "starting frequency 0.00272887\n",
      "starting frequency 0.00381338\n",
      "starting frequency 0.00532889\n",
      "starting frequency 0.00744671\n",
      "starting frequency 0.0104062\n",
      "starting frequency 0.0145418\n",
      "starting frequency 0.0203211\n",
      "starting frequency 0.0283971\n",
      "starting frequency 0.0396827\n",
      "starting frequency 0.0554535\n",
      "starting frequency 0.0774919\n",
      "starting frequency 0.108289\n",
      "starting frequency 0.151325\n",
      "starting frequency 0.211465\n",
      "starting frequency 0.295506\n",
      "starting frequency 0.412946\n",
      "starting frequency 0.57706\n",
      "starting frequency 0.806396\n",
      "starting frequency 1.12688\n",
      "starting frequency 1.57472\n",
      "starting frequency 2.20055\n",
      "starting frequency 3.07509\n",
      "starting frequency 4.2972\n",
      "starting frequency 6.005\n",
      "starting frequency 8.39151\n",
      "starting frequency 11.7265\n",
      "starting frequency 16.3868\n",
      "starting frequency 22.8993\n",
      "starting frequency 32\n",
      "(32, 2, 2)\n"
     ]
    }
   ],
   "source": [
    "from razorback.weights import mest_weights\n",
    "from razorback.prefilters import cod_filter\n",
    "\n",
    "sig = prepare_signalset(inv, 'site004', ['site100', 'site099'])\n",
    "print(sig)\n",
    "ImpME = rb.utils.impedance(\n",
    "    sig, freq,\n",
    "    weights= mest_weights,\n",
    "    remote='Bremote', # including the remotes references in the computation,\n",
    "    prefilter=cod_filter(0.0), # no coherency prefilter...\n",
    "    fourier_opts=dict( Nper= 8,  overlap= 0.71) # fourier options with 8 periods by window, and 71% of overlap\n",
    ")\n",
    "print(ImpME.impedance.shape)"
   ]
  },
  {
   "cell_type": "code",
   "execution_count": 17,
   "metadata": {},
   "outputs": [
    {
     "name": "stderr",
     "output_type": "stream",
     "text": [
      "<ipython-input-17-a0bace2a0562>:5: RuntimeWarning: invalid value encountered in arcsin\n",
      "  rad_err = np.arcsin(res.error/abs(res.impedance))\n"
     ]
    },
    {
     "data": {
      "text/plain": [
       "(-180.0, 180.0)"
      ]
     },
     "execution_count": 17,
     "metadata": {},
     "output_type": "execute_result"
    },
    {
     "data": {
      "image/png": "[encoded data removed]",
      "text/plain": [
       "<Figure size 432x288 with 2 Axes>"
      ]
     },
     "metadata": {
      "needs_background": "light"
     },
     "output_type": "display_data"
    }
   ],
   "source": [
    "res = ImpME\n",
    "rho = 1e12 * np.abs(res.impedance)**2 / freq[:, None, None]\n",
    "rho_err = 1e12 * np.abs(res.error)**2 / freq[:, None, None]\n",
    "phi = np.angle(res.impedance, deg=True)\n",
    "rad_err = np.arcsin(res.error/abs(res.impedance))\n",
    "rad_err[np.isnan(rad_err)] = np.pi\n",
    "phi_err = np.rad2deg(rad_err)\n",
    "\n",
    "fig = plt.figure()\n",
    "ax = plt.subplot(2, 1, 1)\n",
    "ax.set_xscale(\"log\", nonpositive='clip')\n",
    "ax.set_yscale(\"log\", nonpositive='clip')\n",
    "ax.errorbar(freq, rho[:,0,0], yerr=rho_err[:,0,0], fmt='k.', label=r'$\\rho_{xx}$')\n",
    "ax.errorbar(freq, rho[:,1,1], yerr=rho_err[:,1,1], fmt='g.', label=r'$\\rho_{yy}$')\n",
    "ax.errorbar(freq, rho[:,0,1], yerr=rho_err[:,0,1], fmt='r.', label=r'$\\rho_{xy}$')\n",
    "ax.errorbar(freq, rho[:,1,0], yerr=rho_err[:,1,0], fmt='b.', label=r'$\\rho_{yx}$')\n",
    "plt.xlabel('freq')\n",
    "plt.ylabel(r'apparent resistivity  $\\rho$ ($\\Omega.m$)');\n",
    "plt.legend()\n",
    "\n",
    "plt.title('Site 002 results in 2-stage RR ME\\n  configuration with sites 99 and 100 as remote references')\n",
    "ax = plt.subplot(2, 1, 2)\n",
    "ax.set_xscale(\"log\", nonpositive='clip')\n",
    "ax.errorbar(freq, phi[:,0,0], yerr=phi_err[:,0,0], fmt='k.', label=r'$\\phi_{xx}$')\n",
    "ax.errorbar(freq, phi[:,1,1], yerr=phi_err[:,1,1], fmt='g.', label=r'$\\phi_{yy}$')\n",
    "ax.errorbar(freq, phi[:,0,1], yerr=phi_err[:,0,1], fmt='r.', label=r'$\\phi_{xy}$')\n",
    "ax.errorbar(freq, phi[:,1,0], yerr=phi_err[:,1,0], fmt='b.', label=r'$\\phi_{yx}$')\n",
    "plt.xlabel('freq')\n",
    "plt.ylabel(r'phase $\\phi$ (degrees)');\n",
    "plt.legend()\n",
    "plt.ylim(-180, 180)\n"
   ]
  },
  {
   "cell_type": "markdown",
   "metadata": {},
   "source": [
    "### Now computing 2-stage Bounded Influence Transfer Function for site004 with sites 100 and 99 as remote references for a rejection percentage of 1% and 3 bounded influence steps"
   ]
  },
  {
   "cell_type": "code",
   "execution_count": 18,
   "metadata": {},
   "outputs": [
    {
     "name": "stdout",
     "output_type": "stream",
     "text": [
      "SignalSet: 9 channels, 1 run\n",
      "tags: {'site004_Ex': (0,), 'site004_Ey': (1,), \n",
      "       'site004_Hx': (2,), 'site004_Hy': (3,), \n",
      "       'site004_Hz': (4,), 'site099_Hx': (5,), \n",
      "       'site099_Hy': (6,), 'site100_Hx': (7,), \n",
      "       'site100_Hy': (8,), 'B': (2, 3), \n",
      "       'E': (0, 1), 'Bremote': (8, 6, 5, 7)}\n",
      "----------  -------------------  -------------------\n",
      "  sampling                start                 stop\n",
      "       128  2016-04-28 19:00:00  2016-04-29 07:00:00\n",
      "----------  -------------------  -------------------\n",
      "starting frequency 0.001\n",
      "starting frequency 0.00139742\n",
      "failed to converge (maxit=100). while processing step 2 (weighting=1).\n",
      "starting frequency 0.00195279\n",
      "starting frequency 0.00272887\n",
      "starting frequency 0.00381338\n",
      "starting frequency 0.00532889\n",
      "starting frequency 0.00744671\n",
      "starting frequency 0.0104062\n",
      "starting frequency 0.0145418\n",
      "starting frequency 0.0203211\n",
      "starting frequency 0.0283971\n",
      "starting frequency 0.0396827\n",
      "starting frequency 0.0554535\n",
      "starting frequency 0.0774919\n",
      "starting frequency 0.108289\n",
      "starting frequency 0.151325\n",
      "starting frequency 0.211465\n",
      "starting frequency 0.295506\n",
      "failed to converge (maxit=100). while processing step 4 (weighting=1).\n",
      "starting frequency 0.412946\n",
      "starting frequency 0.57706\n",
      "starting frequency 0.806396\n",
      "starting frequency 1.12688\n",
      "starting frequency 1.57472\n",
      "starting frequency 2.20055\n",
      "starting frequency 3.07509\n",
      "starting frequency 4.2972\n",
      "starting frequency 6.005\n",
      "starting frequency 8.39151\n",
      "starting frequency 11.7265\n",
      "starting frequency 16.3868\n",
      "starting frequency 22.8993\n",
      "starting frequency 32\n",
      "(32, 2, 2)\n"
     ]
    }
   ],
   "source": [
    "from razorback.weights import bi_weights\n",
    "from razorback.prefilters import cod_filter\n",
    "\n",
    "sig = prepare_signalset(inv, 'site004', ['site100', 'site099'])\n",
    "print(sig)\n",
    "ImpBI = rb.utils.impedance(\n",
    "    sig, freq,\n",
    "     weights= bi_weights(0.01, 3),  # bounded influence with reject probability of 1% and 3 steps\n",
    "    remote='Bremote', # including the remotes references in the computation,\n",
    "    prefilter=cod_filter(0.0), # prefilter: cod_filter(0.0)\n",
    "    fourier_opts=dict( Nper= 8,  overlap= 0.71) # fourier options with 8 periods by window, and 71% of overlap\n",
    ")\n",
    "print(ImpBI.impedance.shape)"
   ]
  },
  {
   "cell_type": "code",
   "execution_count": 19,
   "metadata": {},
   "outputs": [
    {
     "name": "stderr",
     "output_type": "stream",
     "text": [
      "<ipython-input-19-5eea7cae3846>:5: RuntimeWarning: invalid value encountered in arcsin\n",
      "  rad_err = np.arcsin(res.error/abs(res.impedance))\n"
     ]
    },
    {
     "data": {
      "text/plain": [
       "(-180.0, 180.0)"
      ]
     },
     "execution_count": 19,
     "metadata": {},
     "output_type": "execute_result"
    },
    {
     "data": {
      "image/png": "[encoded data removed]",
      "text/plain": [
       "<Figure size 432x288 with 2 Axes>"
      ]
     },
     "metadata": {
      "needs_background": "light"
     },
     "output_type": "display_data"
    }
   ],
   "source": [
    "res = ImpBI\n",
    "rho = 1e12 * np.abs(res.impedance)**2 / freq[:, None, None]\n",
    "rho_err = 1e12 * np.abs(res.error)**2 / freq[:, None, None]\n",
    "phi = np.angle(res.impedance, deg=True)\n",
    "rad_err = np.arcsin(res.error/abs(res.impedance))\n",
    "rad_err[np.isnan(rad_err)] = np.pi\n",
    "phi_err = np.rad2deg(rad_err)\n",
    "\n",
    "fig = plt.figure()\n",
    "ax = plt.subplot(2, 1, 1)\n",
    "ax.set_xscale(\"log\", nonpositive='clip')\n",
    "ax.set_yscale(\"log\", nonpositive='clip')\n",
    "ax.errorbar(freq, rho[:,0,0], yerr=rho_err[:,0,0], fmt='k.', label=r'$\\rho_{xx}$')\n",
    "ax.errorbar(freq, rho[:,1,1], yerr=rho_err[:,1,1], fmt='g.', label=r'$\\rho_{yy}$')\n",
    "ax.errorbar(freq, rho[:,0,1], yerr=rho_err[:,0,1], fmt='r.', label=r'$\\rho_{xy}$')\n",
    "ax.errorbar(freq, rho[:,1,0], yerr=rho_err[:,1,0], fmt='b.', label=r'$\\rho_{yx}$')\n",
    "plt.xlabel('freq')\n",
    "plt.ylabel(r'apparent resistivity  $\\rho$ ($\\Omega.m$)');\n",
    "plt.legend()\n",
    "\n",
    "plt.title('Site 002 results in 2-stage RR BOUNDED INFLUENCE \\n  configuration with sites 99 and 100 as remote references')\n",
    "ax = plt.subplot(2, 1, 2)\n",
    "ax.set_xscale(\"log\", nonpositive='clip')\n",
    "ax.errorbar(freq, phi[:,0,0], yerr=phi_err[:,0,0], fmt='k.', label=r'$\\phi_{xx}$')\n",
    "ax.errorbar(freq, phi[:,1,1], yerr=phi_err[:,1,1], fmt='g.', label=r'$\\phi_{yy}$')\n",
    "ax.errorbar(freq, phi[:,0,1], yerr=phi_err[:,0,1], fmt='r.', label=r'$\\phi_{xy}$')\n",
    "ax.errorbar(freq, phi[:,1,0], yerr=phi_err[:,1,0], fmt='b.', label=r'$\\phi_{yx}$')\n",
    "plt.xlabel('freq')\n",
    "plt.ylabel(r'phase $\\phi$ (degrees)');\n",
    "plt.legend()\n",
    "plt.ylim(-180, 180)"
   ]
  }
 ],
 "metadata": {
  "kernelspec": {
   "display_name": "Python 3",
   "language": "python",
   "name": "python3"
  },
  "language_info": {
   "codemirror_mode": {
    "name": "ipython",
    "version": 3
   },
   "file_extension": ".py",
   "mimetype": "text/x-python",
   "name": "python",
   "nbconvert_exporter": "python",
   "pygments_lexer": "ipython3",
   "version": "3.9.1"
  }
 },
 "nbformat": 4,
 "nbformat_minor": 4
}
