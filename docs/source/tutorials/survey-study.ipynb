{
 "cells": [
  {
   "cell_type": "markdown",
   "metadata": {},
   "source": [
    "# Survey Study: a tutorial\n",
    "\n",
    "This Jupyter notebook aims to help razorback users to compute impedance estimates from the data set shown in the paper in different ways for a two stage remote reference configuration:\n",
    "1- Ordinary Least Squares\n",
    "2- M-Estimator \n",
    "3- Bounded Influence "
   ]
  },
  {
   "cell_type": "code",
   "execution_count": 1,
   "metadata": {},
   "outputs": [],
   "source": [
    "import razorback as rb\n",
    "import numpy as np\n",
    "import matplotlib.pyplot as plt \n",
    "%matplotlib inline"
   ]
  },
  {
   "cell_type": "code",
   "execution_count": 2,
   "metadata": {},
   "outputs": [],
   "source": [
    "# function for getting sensor information from .ats file header\n",
    "def sensor(ats_file):\n",
    "    header = rb.io.ats.read_ats_header(ats_file)\n",
    "    chan = header['channel_type'].decode()\n",
    "    stype = ''.join(c for c in header['sensor_type'].decode() if c.isprintable())\n",
    "    snum = header['sensor_serial_number']\n",
    "    sampling_rate = header['sampling_rate']\n",
    "    x1, y1, z1 = header['x1'], header['y1'], header['z1']\n",
    "    x2, y2, z2 = header['x2'], header['y2'], header['z2']\n",
    "    L = ((x1-x2)**2 + (y1-y2)**2 + (z1-z2)**2)**.5\n",
    "    return chan, L, stype, snum, sampling_rate"
   ]
  },
  {
   "cell_type": "code",
   "execution_count": 3,
   "metadata": {},
   "outputs": [],
   "source": [
    "# function for getting calibration function from sensor information\n",
    "def calibration(ats_file, name_converter=None):\n",
    "    chan, L, stype, snum, sampling_rate = sensor(ats_file)\n",
    "    if chan in ('Ex', 'Ey'):\n",
    "        return L\n",
    "    elif chan in ('Hx', 'Hy', 'Hz'):\n",
    "        calib_name = f\"{stype}{snum:03d}.txt\"\n",
    "        if name_converter:\n",
    "            calib_name = name_converter.get(calib_name, calib_name)\n",
    "        return rb.calibrations.metronix(calib_name, sampling_rate)\n",
    "    raise Exception(f\"Unknown channel name: {chan}\")"
   ]
  },
  {
   "cell_type": "code",
   "execution_count": 4,
   "metadata": {},
   "outputs": [],
   "source": [
    "#defining patterns to search data in the dataset\n",
    "import glob\n",
    "\n",
    "files = glob.glob(\"data/site*/*/*.ats\")\n",
    "pattern = \"*/site{site}/*/*_T{channel}_*.ats\"\n",
    "tag_template = \"site{site}_{channel}\"\n",
    "\n",
    "name_converter = {\n",
    "    'UNKN_H104.txt': 'MFS07104.txt',\n",
    "    'UNKN_H105.txt': 'MFS07105.txt',\n",
    "}\n",
    "#creating an inventory for the dataset\n",
    "inv = rb.Inventory()\n",
    "for fname, [tag] in rb.utils.tags_from_path(files, pattern, tag_template):\n",
    "    calib = calibration(fname, name_converter)\n",
    "    signal = rb.io.ats.load_ats([fname], [calib], lazy=True)\n",
    "    inv.append(rb.SignalSet({tag:0}, signal))"
   ]
  },
  {
   "cell_type": "code",
   "execution_count": 5,
   "metadata": {},
   "outputs": [
    {
     "data": {
      "text/plain": [
       "24"
      ]
     },
     "execution_count": 5,
     "metadata": {},
     "output_type": "execute_result"
    }
   ],
   "source": [
    "#displaying the number of files in the inventory\n",
    "len(inv)"
   ]
  },
  {
   "cell_type": "code",
   "execution_count": 6,
   "metadata": {},
   "outputs": [
    {
     "data": {
      "text/plain": [
       "{'site002_Ex',\n",
       " 'site002_Ey',\n",
       " 'site002_Hx',\n",
       " 'site002_Hy',\n",
       " 'site002_Hz',\n",
       " 'site004_Ex',\n",
       " 'site004_Ey',\n",
       " 'site004_Hx',\n",
       " 'site004_Hy',\n",
       " 'site004_Hz',\n",
       " 'site006_Ex',\n",
       " 'site006_Ey',\n",
       " 'site006_Hx',\n",
       " 'site006_Hy',\n",
       " 'site006_Hz',\n",
       " 'site009_Ex',\n",
       " 'site009_Ey',\n",
       " 'site009_Hx',\n",
       " 'site009_Hy',\n",
       " 'site009_Hz',\n",
       " 'site099_Hx',\n",
       " 'site099_Hy',\n",
       " 'site100_Hx',\n",
       " 'site100_Hy'}"
      ]
     },
     "execution_count": 6,
     "metadata": {},
     "output_type": "execute_result"
    }
   ],
   "source": [
    "#displaying the number of files in the inventory\n",
    "inv.tags"
   ]
  },
  {
   "cell_type": "code",
   "execution_count": 7,
   "metadata": {},
   "outputs": [
    {
     "name": "stdout",
     "output_type": "stream",
     "text": [
      "SignalSet: 5 channels, 1 run\n",
      "tags: {'site004_Ex': (0,), 'site004_Ey': (1,), \n",
      "       'site004_Hx': (2,), 'site004_Hy': (3,), \n",
      "       'site004_Hz': (4,)}\n",
      "----------  -------------------  -------------------\n",
      "  sampling                start                 stop\n",
      "       128  2016-04-28 19:00:00  2016-04-29 07:00:00\n",
      "----------  -------------------  -------------------\n"
     ]
    }
   ],
   "source": [
    "# Showing the signal set object content for site004\n",
    "print(inv.filter('site004*').pack())"
   ]
  },
  {
   "cell_type": "code",
   "execution_count": 8,
   "metadata": {},
   "outputs": [
    {
     "name": "stdout",
     "output_type": "stream",
     "text": [
      "SignalSet: 2 channels, 1 run\n",
      "tags: {'site099_Hx': (0,), 'site099_Hy': (1,)}\n",
      "----------  -------------------  -------------------\n",
      "  sampling                start                 stop\n",
      "       128  2016-04-28 19:00:00  2016-04-29 17:59:00\n",
      "----------  -------------------  -------------------\n"
     ]
    }
   ],
   "source": [
    "# Showing the signal set object content for site099\n",
    "print(inv.filter('site099*').pack())"
   ]
  },
  {
   "cell_type": "code",
   "execution_count": 9,
   "metadata": {
    "scrolled": true
   },
   "outputs": [
    {
     "name": "stdout",
     "output_type": "stream",
     "text": [
      "SignalSet: 24 channels, 1 run\n",
      "tags: {'site002_Ex': (0,), 'site002_Ey': (1,), \n",
      "       'site002_Hx': (2,), 'site002_Hy': (3,), \n",
      "       'site002_Hz': (4,), 'site004_Ex': (5,), \n",
      "       'site004_Ey': (6,), 'site004_Hx': (7,), \n",
      "       'site004_Hy': (8,), 'site004_Hz': (9,), \n",
      "       'site006_Ex': (10,), 'site006_Ey': (11,), \n",
      "       'site006_Hx': (12,), 'site006_Hy': (13,), \n",
      "       'site006_Hz': (14,), 'site009_Ex': (15,), \n",
      "       'site009_Ey': (16,), 'site009_Hx': (17,), \n",
      "       'site009_Hy': (18,), 'site009_Hz': (19,), \n",
      "       'site099_Hx': (20,), 'site099_Hy': (21,), \n",
      "       'site100_Hx': (22,), 'site100_Hy': (23,)}\n",
      "----------  -------------------  -------------------\n",
      "  sampling                start                 stop\n",
      "       128  2016-04-28 19:00:00  2016-04-29 04:00:05\n",
      "----------  -------------------  -------------------\n"
     ]
    }
   ],
   "source": [
    "# Showing the signal set object content for the full inventory site002, site100, site099\n",
    "print(inv.pack())"
   ]
  },
  {
   "cell_type": "code",
   "execution_count": 10,
   "metadata": {},
   "outputs": [],
   "source": [
    "# Function to prepare signal set from inventory to get it ready for TF estimation procedure\n",
    "from itertools import chain\n",
    "\n",
    "def prepare_signalset(inventory, local_site, remote_sites):\n",
    "    patterns = (f\"{e}*\" for e in [local_site, *remote_sites])\n",
    "    signalset = inventory.filter(*patterns).pack()\n",
    "    tags = signalset.tags\n",
    "    tags[\"E\"] = tags[f\"{local_site}_Ex\"] + tags[f\"{local_site}_Ey\"]\n",
    "    tags[\"B\"] = tags[f\"{local_site}_Hx\"] + tags[f\"{local_site}_Hy\"]\n",
    "    if remote_sites:\n",
    "        remote_names = tags.filter(*chain(*(\n",
    "            (f\"{e}_Hx\", f\"{e}_Hy\") for e in remote_sites\n",
    "        )))\n",
    "        tags[\"Bremote\"] = sum((tags[n] for n in remote_names), ())\n",
    "    return signalset"
   ]
  },
  {
   "cell_type": "code",
   "execution_count": 11,
   "metadata": {
    "scrolled": true
   },
   "outputs": [
    {
     "name": "stdout",
     "output_type": "stream",
     "text": [
      "SignalSet: 9 channels, 1 run\n",
      "tags: {'site004_Ex': (0,), 'site004_Ey': (1,), \n",
      "       'site004_Hx': (2,), 'site004_Hy': (3,), \n",
      "       'site004_Hz': (4,), 'site099_Hx': (5,), \n",
      "       'site099_Hy': (6,), 'site100_Hx': (7,), \n",
      "       'site100_Hy': (8,), 'B': (2, 3), \n",
      "       'E': (0, 1), 'Bremote': (8, 6, 5, 7)}\n",
      "----------  -------------------  -------------------\n",
      "  sampling                start                 stop\n",
      "       128  2016-04-28 19:00:00  2016-04-29 07:00:00\n",
      "----------  -------------------  -------------------\n"
     ]
    }
   ],
   "source": [
    "# Showing the signal set object with tags for processing site004 using sites 100 and 099 as remote references\n",
    "print(prepare_signalset(inv, 'site004', ['site100', 'site099']))"
   ]
  },
  {
   "cell_type": "markdown",
   "metadata": {},
   "source": [
    "defining a frequency array in logscale for TF computation"
   ]
  },
  {
   "cell_type": "code",
   "execution_count": 12,
   "metadata": {},
   "outputs": [
    {
     "name": "stdout",
     "output_type": "stream",
     "text": [
      "[1.00000000e-03 1.28789871e-03 1.65868308e-03 2.13621579e-03\n",
      " 2.75122955e-03 3.54330497e-03 4.56341789e-03 5.87722000e-03\n",
      " 7.56926403e-03 9.74844534e-03 1.25550101e-02 1.61695813e-02\n",
      " 2.08247828e-02 2.68202109e-02 3.45417149e-02 4.44862299e-02\n",
      " 5.72937579e-02 7.37885567e-02 9.50321866e-02 1.22391830e-01\n",
      " 1.57628280e-01 2.03009257e-01 2.61455360e-01 3.36728020e-01\n",
      " 4.33671581e-01 5.58525067e-01 7.19323712e-01 9.26416077e-01\n",
      " 1.19313007e+00 1.53663067e+00 1.97902465e+00 2.54878329e+00\n",
      " 3.28257469e+00 4.22762370e+00 5.44475109e+00 7.01228789e+00\n",
      " 9.03111649e+00 1.16311632e+01 1.49797601e+01 1.92924136e+01\n",
      " 2.48466746e+01 3.20000000e+01]\n"
     ]
    }
   ],
   "source": [
    "# Definining your output frequency in logscale / reduce nb_freq if you want to make a quick test\n",
    "# as sampling frequency is 128, we go up to half a nyquist frequency which is 32 Hz\n",
    "# recordings are long enough to try to reach 1 mHz\n",
    "nb_freq=42\n",
    "freq = np.logspace(-3, np.log10(32), nb_freq)\n",
    "print(freq)"
   ]
  },
  {
   "cell_type": "markdown",
   "metadata": {},
   "source": [
    "### Computing simple two-stage OLS Impedance estimate for site002 with sites 100 and 99 as remote references "
   ]
  },
  {
   "cell_type": "code",
   "execution_count": 13,
   "metadata": {},
   "outputs": [
    {
     "name": "stdout",
     "output_type": "stream",
     "text": [
      "SignalSet: 9 channels, 1 run\n",
      "tags: {'site004_Ex': (0,), 'site004_Ey': (1,), \n",
      "       'site004_Hx': (2,), 'site004_Hy': (3,), \n",
      "       'site004_Hz': (4,), 'site099_Hx': (5,), \n",
      "       'site099_Hy': (6,), 'site100_Hx': (7,), \n",
      "       'site100_Hy': (8,), 'B': (2, 3), \n",
      "       'E': (0, 1), 'Bremote': (8, 6, 5, 7)}\n",
      "----------  -------------------  -------------------\n",
      "  sampling                start                 stop\n",
      "       128  2016-04-28 19:00:00  2016-04-29 07:00:00\n",
      "----------  -------------------  -------------------\n",
      "starting frequency 0.001\n",
      "starting frequency 0.0012879\n",
      "starting frequency 0.00165868\n",
      "starting frequency 0.00213622\n",
      "starting frequency 0.00275123\n",
      "starting frequency 0.0035433\n",
      "starting frequency 0.00456342\n",
      "starting frequency 0.00587722\n",
      "starting frequency 0.00756926\n",
      "starting frequency 0.00974845\n",
      "starting frequency 0.012555\n",
      "starting frequency 0.0161696\n",
      "starting frequency 0.0208248\n",
      "starting frequency 0.0268202\n",
      "starting frequency 0.0345417\n",
      "starting frequency 0.0444862\n",
      "starting frequency 0.0572938\n",
      "starting frequency 0.0737886\n",
      "starting frequency 0.0950322\n",
      "starting frequency 0.122392\n",
      "starting frequency 0.157628\n",
      "starting frequency 0.203009\n",
      "starting frequency 0.261455\n",
      "starting frequency 0.336728\n",
      "starting frequency 0.433672\n",
      "starting frequency 0.558525\n",
      "starting frequency 0.719324\n",
      "starting frequency 0.926416\n",
      "starting frequency 1.19313\n",
      "starting frequency 1.53663\n",
      "starting frequency 1.97902\n",
      "starting frequency 2.54878\n",
      "starting frequency 3.28257\n",
      "starting frequency 4.22762\n",
      "starting frequency 5.44475\n",
      "starting frequency 7.01229\n",
      "starting frequency 9.03112\n",
      "starting frequency 11.6312\n",
      "starting frequency 14.9798\n",
      "starting frequency 19.2924\n",
      "starting frequency 24.8467\n",
      "starting frequency 32\n",
      "(42, 2, 2)\n"
     ]
    }
   ],
   "source": [
    "sig = prepare_signalset(inv, 'site004', ['site100', 'site099'])\n",
    "print(sig)\n",
    "ImpOLS = rb.utils.impedance(sig, freq ,remote='Bremote' )\n",
    "print(ImpOLS.impedance.shape)"
   ]
  },
  {
   "cell_type": "code",
   "execution_count": null,
   "metadata": {},
   "outputs": [],
   "source": []
  },
  {
   "cell_type": "code",
   "execution_count": 14,
   "metadata": {},
   "outputs": [
    {
     "data": {
      "text/plain": [
       "<matplotlib.legend.Legend at 0x2b8bab5eac8>"
      ]
     },
     "execution_count": 14,
     "metadata": {},
     "output_type": "execute_result"
    },
    {
     "data": {
      "image/png": "[encoded data removed]",
      "text/plain": [
       "<Figure size 432x288 with 2 Axes>"
      ]
     },
     "metadata": {
      "needs_background": "light"
     },
     "output_type": "display_data"
    }
   ],
   "source": [
    "fig = plt.figure()\n",
    "ax = plt.subplot(2, 1, 1)\n",
    "plt.loglog(freq,1e12*np.abs(ImpOLS.impedance[:,0,1])**2/freq,'r.',label=r'$\\rho_{xy}$')\n",
    "plt.loglog(freq,1e12*np.abs(ImpOLS.impedance[:,1,0])**2/freq,'b.',label=r'$\\rho_{yx}$')\n",
    "plt.loglog(freq,1e12*np.abs(ImpOLS.impedance[:,0,0])**2/freq,'k.',label=r'$\\rho_{xx}$')\n",
    "plt.loglog(freq,1e12*np.abs(ImpOLS.impedance[:,1,1])**2/freq,'g.',label=r'$\\rho_{yy}$')\n",
    "plt.xlabel('freq')\n",
    "plt.ylabel(r'apparent resistivity \\n $\\rho$ ($\\Omega.m$)');\n",
    "plt.legend()\n",
    "\n",
    "plt.title('Site 002 results in 2-stage RR OLS\\n  configuration with sites 99 and 100 as remote references')\n",
    "ax = plt.subplot(2, 1, 2)\n",
    "plt.semilogx(freq,np.angle(ImpOLS.impedance[:,0,1],deg=1),'r.',label=r'$\\phi_{xy}$')\n",
    "plt.semilogx(freq,np.angle(ImpOLS.impedance[:,1,0],deg=1),'b.',label=r'$\\phi_{yx}$')\n",
    "plt.semilogx(freq,np.angle(ImpOLS.impedance[:,0,0],deg=1),'k.',label=r'$\\phi_{xx}$')\n",
    "plt.semilogx(freq,np.angle(ImpOLS.impedance[:,1,1],deg=1),'g.',label=r'$\\phi_{yy}$')\n",
    "plt.xlabel('freq')\n",
    "plt.ylabel(r'phase \\n $\\phi$ (degrees)');\n",
    "plt.legend()\n"
   ]
  },
  {
   "cell_type": "markdown",
   "metadata": {},
   "source": [
    "### Now computing 2-stage M-Estimator Transfer Function for site002 with sites 100 and 99 as remote references "
   ]
  },
  {
   "cell_type": "code",
   "execution_count": 15,
   "metadata": {},
   "outputs": [
    {
     "name": "stdout",
     "output_type": "stream",
     "text": [
      "SignalSet: 9 channels, 1 run\n",
      "tags: {'site004_Ex': (0,), 'site004_Ey': (1,), \n",
      "       'site004_Hx': (2,), 'site004_Hy': (3,), \n",
      "       'site004_Hz': (4,), 'site099_Hx': (5,), \n",
      "       'site099_Hy': (6,), 'site100_Hx': (7,), \n",
      "       'site100_Hy': (8,), 'B': (2, 3), \n",
      "       'E': (0, 1), 'Bremote': (8, 6, 5, 7)}\n",
      "----------  -------------------  -------------------\n",
      "  sampling                start                 stop\n",
      "       128  2016-04-28 19:00:00  2016-04-29 07:00:00\n",
      "----------  -------------------  -------------------\n",
      "starting frequency 0.001\n",
      "starting frequency 0.0012879\n",
      "starting frequency 0.00165868\n",
      "starting frequency 0.00213622\n",
      "starting frequency 0.00275123\n",
      "starting frequency 0.0035433\n",
      "starting frequency 0.00456342\n",
      "starting frequency 0.00587722\n",
      "starting frequency 0.00756926\n",
      "starting frequency 0.00974845\n",
      "starting frequency 0.012555\n",
      "starting frequency 0.0161696\n",
      "starting frequency 0.0208248\n",
      "starting frequency 0.0268202\n",
      "starting frequency 0.0345417\n",
      "starting frequency 0.0444862\n",
      "starting frequency 0.0572938\n",
      "starting frequency 0.0737886\n",
      "starting frequency 0.0950322\n",
      "starting frequency 0.122392\n",
      "starting frequency 0.157628\n",
      "starting frequency 0.203009\n",
      "starting frequency 0.261455\n",
      "starting frequency 0.336728\n",
      "starting frequency 0.433672\n",
      "starting frequency 0.558525\n",
      "starting frequency 0.719324\n",
      "starting frequency 0.926416\n",
      "starting frequency 1.19313\n",
      "starting frequency 1.53663\n",
      "starting frequency 1.97902\n",
      "starting frequency 2.54878\n",
      "starting frequency 3.28257\n",
      "starting frequency 4.22762\n",
      "starting frequency 5.44475\n",
      "starting frequency 7.01229\n",
      "starting frequency 9.03112\n",
      "starting frequency 11.6312\n",
      "starting frequency 14.9798\n",
      "starting frequency 19.2924\n",
      "starting frequency 24.8467\n",
      "starting frequency 32\n",
      "(42, 2, 2)\n"
     ]
    }
   ],
   "source": [
    "from razorback.weights import bi_weights, mest_weights\n",
    "from razorback.prefilters import bcoher_filter\n",
    "from razorback.prefilters import bcoher_filter\n",
    "\n",
    "sig = prepare_signalset(inv, 'site004', ['site100', 'site099'])\n",
    "print(sig)\n",
    "ImpME = rb.utils.impedance(\n",
    "    sig, freq,\n",
    "     weights= mest_weights,#bi_weights(0.1, 3),  # bounded influence with reject probability of 10% and 3 steps\n",
    "    remote='Bremote', # including the remotes references in the coputation,\n",
    "    prefilter=bcoher_filter(0.0), # prefilter: bcoher_filter(0.0)\n",
    "    fourier_opts=dict( Nper= 8,  overlap= 0.71) # fourier options with 8 periods by window, and 71% of overlap\n",
    ")\n",
    "print(ImpME.impedance.shape)"
   ]
  },
  {
   "cell_type": "code",
   "execution_count": 16,
   "metadata": {},
   "outputs": [
    {
     "data": {
      "text/plain": [
       "<matplotlib.legend.Legend at 0x2b8baf28848>"
      ]
     },
     "execution_count": 16,
     "metadata": {},
     "output_type": "execute_result"
    },
    {
     "data": {
      "image/png": "[encoded data removed]",
      "text/plain": [
       "<Figure size 432x288 with 2 Axes>"
      ]
     },
     "metadata": {
      "needs_background": "light"
     },
     "output_type": "display_data"
    }
   ],
   "source": [
    "fig = plt.figure()\n",
    "ax = plt.subplot(2, 1, 1)\n",
    "plt.loglog(freq,1e12*np.abs(ImpME.impedance[:,0,1])**2/freq,'r.',label=r'$\\rho_{xy}$')\n",
    "plt.loglog(freq,1e12*np.abs(ImpME.impedance[:,1,0])**2/freq,'b.',label=r'$\\rho_{yx}$')\n",
    "plt.loglog(freq,1e12*np.abs(ImpME.impedance[:,0,0])**2/freq,'k.',label=r'$\\rho_{xx}$')\n",
    "plt.loglog(freq,1e12*np.abs(ImpME.impedance[:,1,1])**2/freq,'g.',label=r'$\\rho_{yy}$')\n",
    "plt.xlabel('freq')\n",
    "plt.ylabel(r'apparent resistivity \\n $\\rho$ ($\\Omega.m$)');\n",
    "plt.legend()\n",
    "\n",
    "plt.title('Site 002 results in 2-stage RR M-estimator\\n  configuration with sites 99 and 100 as remote references')\n",
    "ax = plt.subplot(2, 1, 2)\n",
    "plt.semilogx(freq,np.angle(ImpME.impedance[:,0,1],deg=1),'r.',label=r'$\\phi_{xy}$')\n",
    "plt.semilogx(freq,np.angle(ImpME.impedance[:,1,0],deg=1),'b.',label=r'$\\phi_{yx}$')\n",
    "plt.semilogx(freq,np.angle(ImpME.impedance[:,0,0],deg=1),'k.',label=r'$\\phi_{xx}$')\n",
    "plt.semilogx(freq,np.angle(ImpME.impedance[:,1,1],deg=1),'g.',label=r'$\\phi_{yy}$')\n",
    "plt.xlabel('freq')\n",
    "plt.ylabel(r'phase \\n $\\phi$ (degrees)');\n",
    "plt.legend()\n"
   ]
  },
  {
   "cell_type": "markdown",
   "metadata": {},
   "source": [
    "### Now computing 2-stage Bounded Influence Transfer Function for site002 with sites 100 and 99 as remote references for a rejection percentage of 1% and 3 bounded influence steps"
   ]
  },
  {
   "cell_type": "code",
   "execution_count": 17,
   "metadata": {},
   "outputs": [
    {
     "name": "stdout",
     "output_type": "stream",
     "text": [
      "SignalSet: 9 channels, 1 run\n",
      "tags: {'site004_Ex': (0,), 'site004_Ey': (1,), \n",
      "       'site004_Hx': (2,), 'site004_Hy': (3,), \n",
      "       'site004_Hz': (4,), 'site099_Hx': (5,), \n",
      "       'site099_Hy': (6,), 'site100_Hx': (7,), \n",
      "       'site100_Hy': (8,), 'B': (2, 3), \n",
      "       'E': (0, 1), 'Bremote': (8, 6, 5, 7)}\n",
      "----------  -------------------  -------------------\n",
      "  sampling                start                 stop\n",
      "       128  2016-04-28 19:00:00  2016-04-29 07:00:00\n",
      "----------  -------------------  -------------------\n",
      "starting frequency 0.001\n",
      "starting frequency 0.0012879\n",
      "starting frequency 0.00165868\n",
      "failed to converge (maxit=100). while processing step 3 (weighting=1).\n",
      "starting frequency 0.00213622\n",
      "starting frequency 0.00275123\n",
      "starting frequency 0.0035433\n",
      "starting frequency 0.00456342\n",
      "starting frequency 0.00587722\n",
      "starting frequency 0.00756926\n",
      "starting frequency 0.00974845\n",
      "starting frequency 0.012555\n",
      "starting frequency 0.0161696\n",
      "starting frequency 0.0208248\n",
      "starting frequency 0.0268202\n",
      "starting frequency 0.0345417\n",
      "starting frequency 0.0444862\n",
      "starting frequency 0.0572938\n",
      "starting frequency 0.0737886\n",
      "starting frequency 0.0950322\n",
      "starting frequency 0.122392\n",
      "starting frequency 0.157628\n",
      "starting frequency 0.203009\n",
      "starting frequency 0.261455\n",
      "starting frequency 0.336728\n",
      "starting frequency 0.433672\n",
      "starting frequency 0.558525\n",
      "starting frequency 0.719324\n",
      "starting frequency 0.926416\n",
      "starting frequency 1.19313\n",
      "starting frequency 1.53663\n",
      "starting frequency 1.97902\n",
      "starting frequency 2.54878\n",
      "starting frequency 3.28257\n",
      "starting frequency 4.22762\n",
      "starting frequency 5.44475\n",
      "starting frequency 7.01229\n",
      "starting frequency 9.03112\n",
      "starting frequency 11.6312\n",
      "starting frequency 14.9798\n",
      "starting frequency 19.2924\n",
      "starting frequency 24.8467\n",
      "starting frequency 32\n",
      "(42, 2, 2)\n"
     ]
    }
   ],
   "source": [
    "from razorback.weights import bi_weights, mest_weights\n",
    "from razorback.prefilters import bcoher_filter\n",
    "from razorback.prefilters import bcoher_filter\n",
    "\n",
    "sig = prepare_signalset(inv, 'site004', ['site100', 'site099'])\n",
    "print(sig)\n",
    "ImpBI = rb.utils.impedance(\n",
    "    sig, freq,\n",
    "     weights= bi_weights(0.01, 3),  # bounded influence with reject probability of 1% and 3 steps\n",
    "    remote='Bremote', # including the remotes references in the coputation,\n",
    "    prefilter=bcoher_filter(0.0), # prefilter: bcoher_filter(0.0)\n",
    "    fourier_opts=dict( Nper= 8,  overlap= 0.71) # fourier options with 8 periods by window, and 71% of overlap\n",
    ")\n",
    "print(ImpBI.impedance.shape)"
   ]
  },
  {
   "cell_type": "code",
   "execution_count": 18,
   "metadata": {},
   "outputs": [
    {
     "data": {
      "text/plain": [
       "<matplotlib.legend.Legend at 0x2b8bd143c48>"
      ]
     },
     "execution_count": 18,
     "metadata": {},
     "output_type": "execute_result"
    },
    {
     "data": {
      "image/png": "[encoded data removed]",
      "text/plain": [
       "<Figure size 432x288 with 2 Axes>"
      ]
     },
     "metadata": {
      "needs_background": "light"
     },
     "output_type": "display_data"
    }
   ],
   "source": [
    "fig = plt.figure()\n",
    "ax = plt.subplot(2, 1, 1)\n",
    "plt.loglog(freq,1e12*np.abs(ImpBI.impedance[:,0,1])**2/freq,'r.',label=r'$\\rho_{xy}$')\n",
    "plt.loglog(freq,1e12*np.abs(ImpBI.impedance[:,1,0])**2/freq,'b.',label=r'$\\rho_{yx}$')\n",
    "plt.loglog(freq,1e12*np.abs(ImpBI.impedance[:,0,0])**2/freq,'k.',label=r'$\\rho_{xx}$')\n",
    "plt.loglog(freq,1e12*np.abs(ImpBI.impedance[:,1,1])**2/freq,'g.',label=r'$\\rho_{yy}$')\n",
    "plt.xlabel('freq')\n",
    "plt.ylabel(r'apparent resistivity \\n $\\rho$ ($\\Omega.m$)');\n",
    "plt.legend()\n",
    "\n",
    "plt.title('Site 002 results in 2-stage RR Bounded Influence\\n  configuration with sites 99 and 100 as remote references')\n",
    "ax = plt.subplot(2, 1, 2)\n",
    "plt.semilogx(freq,np.angle(ImpBI.impedance[:,0,1],deg=1),'r.',label=r'$\\phi_{xy}$')\n",
    "plt.semilogx(freq,np.angle(ImpBI.impedance[:,1,0],deg=1),'b.',label=r'$\\phi_{yx}$')\n",
    "plt.semilogx(freq,np.angle(ImpBI.impedance[:,0,0],deg=1),'k.',label=r'$\\phi_{xx}$')\n",
    "plt.semilogx(freq,np.angle(ImpBI.impedance[:,1,1],deg=1),'g.',label=r'$\\phi_{yy}$')\n",
    "plt.xlabel('freq')\n",
    "plt.ylabel(r'phase \\n $\\phi$ (degrees)');\n",
    "plt.legend()"
   ]
  }
 ],
 "metadata": {
  "kernelspec": {
   "display_name": "Python 3",
   "language": "python",
   "name": "python3"
  },
  "language_info": {
   "codemirror_mode": {
    "name": "ipython",
    "version": 3
   },
   "file_extension": ".py",
   "mimetype": "text/x-python",
   "name": "python",
   "nbconvert_exporter": "python",
   "pygments_lexer": "ipython3",
   "version": "3.7.4"
  }
 },
 "nbformat": 4,
 "nbformat_minor": 4
}
