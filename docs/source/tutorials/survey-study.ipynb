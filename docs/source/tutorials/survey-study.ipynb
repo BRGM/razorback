{
 "cells": [
  {
   "cell_type": "markdown",
   "metadata": {},
   "source": [
    "# exploring survey study with bears\n",
    "blaba"
   ]
  },
  {
   "cell_type": "code",
   "execution_count": 20,
   "metadata": {},
   "outputs": [],
   "source": [
    "import razorback as rb\n",
    "import numpy as np\n",
    "import matplotlib.pyplot as plt \n",
    "%matplotlib inline"
   ]
  },
  {
   "cell_type": "code",
   "execution_count": 2,
   "metadata": {},
   "outputs": [],
   "source": [
    "def sensor(ats_file):\n",
    "    header = rb.io.ats.read_ats_header(ats_file)\n",
    "    chan = header['channel_type'].decode()\n",
    "    stype = ''.join(c for c in header['sensor_type'].decode() if c.isprintable())\n",
    "    snum = header['sensor_serial_number']\n",
    "    sampling_rate = header['sampling_rate']\n",
    "    x1, y1, z1 = header['x1'], header['y1'], header['z1']\n",
    "    x2, y2, z2 = header['x2'], header['y2'], header['z2']\n",
    "    L = ((x1-x2)**2 + (y1-y2)**2 + (z1-z2)**2)**.5\n",
    "    return chan, L, stype, snum, sampling_rate"
   ]
  },
  {
   "cell_type": "code",
   "execution_count": 3,
   "metadata": {},
   "outputs": [],
   "source": [
    "def calibration(ats_file, name_converter=None):\n",
    "    chan, L, stype, snum, sampling_rate = sensor(ats_file)\n",
    "    if chan in ('Ex', 'Ey'):\n",
    "        return L\n",
    "    elif chan in ('Hx', 'Hy', 'Hz'):\n",
    "        calib_name = f\"{stype}{snum:03d}.txt\"\n",
    "        if name_converter:\n",
    "            calib_name = name_converter.get(calib_name, calib_name)\n",
    "        return rb.calibrations.metronix(calib_name, sampling_rate)\n",
    "    raise Exception(f\"Unknown channel name: {chan}\")"
   ]
  },
  {
   "cell_type": "code",
   "execution_count": 4,
   "metadata": {},
   "outputs": [],
   "source": [
    "import glob\n",
    "\n",
    "files = glob.glob(\"data/site*/*/*.ats\")\n",
    "pattern = \"*/site{site}/*/*_T{channel}_*.ats\"\n",
    "tag_template = \"site{site}_{channel}\"\n",
    "\n",
    "name_converter = {\n",
    "    'UNKN_H104.txt': 'MFS07104.txt',\n",
    "    'UNKN_H105.txt': 'MFS07105.txt',\n",
    "}\n",
    "\n",
    "inv = rb.Inventory()\n",
    "for fname, [tag] in rb.utils.tags_from_path(files, pattern, tag_template):\n",
    "    calib = calibration(fname, name_converter)\n",
    "    signal = rb.io.ats.load_ats([fname], [calib], lazy=True)\n",
    "    inv.append(rb.SignalSet({tag:0}, signal))"
   ]
  },
  {
   "cell_type": "code",
   "execution_count": 5,
   "metadata": {},
   "outputs": [
    {
     "data": {
      "text/plain": [
       "24"
      ]
     },
     "execution_count": 5,
     "metadata": {},
     "output_type": "execute_result"
    }
   ],
   "source": [
    "len(inv)"
   ]
  },
  {
   "cell_type": "code",
   "execution_count": 6,
   "metadata": {},
   "outputs": [
    {
     "data": {
      "text/plain": [
       "{'site002_Ex',\n",
       " 'site002_Ey',\n",
       " 'site002_Hx',\n",
       " 'site002_Hy',\n",
       " 'site002_Hz',\n",
       " 'site004_Ex',\n",
       " 'site004_Ey',\n",
       " 'site004_Hx',\n",
       " 'site004_Hy',\n",
       " 'site004_Hz',\n",
       " 'site006_Ex',\n",
       " 'site006_Ey',\n",
       " 'site006_Hx',\n",
       " 'site006_Hy',\n",
       " 'site006_Hz',\n",
       " 'site009_Ex',\n",
       " 'site009_Ey',\n",
       " 'site009_Hx',\n",
       " 'site009_Hy',\n",
       " 'site009_Hz',\n",
       " 'site099_Hx',\n",
       " 'site099_Hy',\n",
       " 'site100_Hx',\n",
       " 'site100_Hy'}"
      ]
     },
     "execution_count": 6,
     "metadata": {},
     "output_type": "execute_result"
    }
   ],
   "source": [
    "inv.tags"
   ]
  },
  {
   "cell_type": "code",
   "execution_count": 7,
   "metadata": {},
   "outputs": [
    {
     "name": "stdout",
     "output_type": "stream",
     "text": [
      "SignalSet: 5 channels, 1 run\n",
      "tags: {'site002_Ex': (0,), 'site002_Ey': (1,), \n",
      "       'site002_Hx': (2,), 'site002_Hy': (3,), \n",
      "       'site002_Hz': (4,)}\n",
      "----------  -------------------  -------------------\n",
      "  sampling                start                 stop\n",
      "       128  2016-04-28 08:20:00  2016-04-29 06:46:22\n",
      "----------  -------------------  -------------------\n"
     ]
    }
   ],
   "source": [
    "print(inv.filter('site002*').pack())"
   ]
  },
  {
   "cell_type": "code",
   "execution_count": 8,
   "metadata": {},
   "outputs": [
    {
     "name": "stdout",
     "output_type": "stream",
     "text": [
      "SignalSet: 2 channels, 1 run\n",
      "tags: {'site099_Hx': (0,), 'site099_Hy': (1,)}\n",
      "----------  -------------------  -------------------\n",
      "  sampling                start                 stop\n",
      "       128  2016-04-28 19:00:00  2016-04-29 17:59:00\n",
      "----------  -------------------  -------------------\n"
     ]
    }
   ],
   "source": [
    "print(inv.filter('site099*').pack())"
   ]
  },
  {
   "cell_type": "code",
   "execution_count": 9,
   "metadata": {
    "scrolled": true
   },
   "outputs": [
    {
     "name": "stdout",
     "output_type": "stream",
     "text": [
      "SignalSet: 24 channels, 1 run\n",
      "tags: {'site002_Ex': (0,), 'site002_Ey': (1,), \n",
      "       'site002_Hx': (2,), 'site002_Hy': (3,), \n",
      "       'site002_Hz': (4,), 'site004_Ex': (5,), \n",
      "       'site004_Ey': (6,), 'site004_Hx': (7,), \n",
      "       'site004_Hy': (8,), 'site004_Hz': (9,), \n",
      "       'site006_Ex': (10,), 'site006_Ey': (11,), \n",
      "       'site006_Hx': (12,), 'site006_Hy': (13,), \n",
      "       'site006_Hz': (14,), 'site009_Ex': (15,), \n",
      "       'site009_Ey': (16,), 'site009_Hx': (17,), \n",
      "       'site009_Hy': (18,), 'site009_Hz': (19,), \n",
      "       'site099_Hx': (20,), 'site099_Hy': (21,), \n",
      "       'site100_Hx': (22,), 'site100_Hy': (23,)}\n",
      "----------  -------------------  -------------------\n",
      "  sampling                start                 stop\n",
      "       128  2016-04-28 19:00:00  2016-04-29 04:00:05\n",
      "----------  -------------------  -------------------\n"
     ]
    }
   ],
   "source": [
    "print(inv.pack())"
   ]
  },
  {
   "cell_type": "code",
   "execution_count": 10,
   "metadata": {},
   "outputs": [],
   "source": [
    "from itertools import chain\n",
    "\n",
    "def prepare_signalset(inventory, local_site, remote_sites):\n",
    "    patterns = (f\"{e}*\" for e in [local_site, *remote_sites])\n",
    "    signalset = inventory.filter(*patterns).pack()\n",
    "    tags = signalset.tags\n",
    "    tags[\"E\"] = tags[f\"{local_site}_Ex\"] + tags[f\"{local_site}_Ey\"]\n",
    "    tags[\"B\"] = tags[f\"{local_site}_Hx\"] + tags[f\"{local_site}_Hy\"]\n",
    "    if remote_sites:\n",
    "        remote_names = tags.filter(*chain(*(\n",
    "            (f\"{e}_Hx\", f\"{e}_Hy\") for e in remote_sites\n",
    "        )))\n",
    "        tags[\"Bremote\"] = sum((tags[n] for n in remote_names), ())\n",
    "    return signalset"
   ]
  },
  {
   "cell_type": "code",
   "execution_count": 11,
   "metadata": {
    "scrolled": true
   },
   "outputs": [
    {
     "name": "stdout",
     "output_type": "stream",
     "text": [
      "SignalSet: 9 channels, 1 run\n",
      "tags: {'site002_Ex': (0,), 'site002_Ey': (1,), \n",
      "       'site002_Hx': (2,), 'site002_Hy': (3,), \n",
      "       'site002_Hz': (4,), 'site099_Hx': (5,), \n",
      "       'site099_Hy': (6,), 'site100_Hx': (7,), \n",
      "       'site100_Hy': (8,), 'B': (2, 3), \n",
      "       'E': (0, 1), 'Bremote': (5, 7, 8, 6)}\n",
      "----------  -------------------  -------------------\n",
      "  sampling                start                 stop\n",
      "       128  2016-04-28 19:00:00  2016-04-29 06:46:22\n",
      "----------  -------------------  -------------------\n"
     ]
    }
   ],
   "source": [
    "print(prepare_signalset(inv, 'site002', ['site100', 'site099']))"
   ]
  },
  {
   "cell_type": "markdown",
   "metadata": {},
   "source": [
    "defining a frequency array in logscale for TF computation"
   ]
  },
  {
   "cell_type": "code",
   "execution_count": 35,
   "metadata": {},
   "outputs": [
    {
     "name": "stdout",
     "output_type": "stream",
     "text": [
      "[1.00000000e-02 1.38103918e-02 1.90726921e-02 2.63401351e-02\n",
      " 3.63767585e-02 5.02377286e-02 6.93802715e-02 9.58168731e-02\n",
      " 1.32326856e-01 1.82748572e-01 2.52382938e-01 3.48550725e-01\n",
      " 4.81362207e-01 6.64780067e-01 9.18087317e-01 1.26791455e+00\n",
      " 1.75103967e+00 2.41825439e+00 3.33970406e+00 4.61226215e+00\n",
      " 6.36971473e+00 8.79682560e+00 1.21487608e+01 1.67779146e+01\n",
      " 2.31709574e+01 3.20000000e+01]\n"
     ]
    }
   ],
   "source": [
    "freq = np.logspace(-2, np.log10(32), 26)\n",
    "print(freq)"
   ]
  },
  {
   "cell_type": "code",
   "execution_count": 40,
   "metadata": {},
   "outputs": [],
   "source": [
    "#Computing simple two-stage OLS Impedance estimates for site002 with 2 distant remote"
   ]
  },
  {
   "cell_type": "code",
   "execution_count": 49,
   "metadata": {},
   "outputs": [
    {
     "name": "stdout",
     "output_type": "stream",
     "text": [
      "SignalSet: 9 channels, 1 run\n",
      "tags: {'site002_Ex': (0,), 'site002_Ey': (1,), \n",
      "       'site002_Hx': (2,), 'site002_Hy': (3,), \n",
      "       'site002_Hz': (4,), 'site099_Hx': (5,), \n",
      "       'site099_Hy': (6,), 'site100_Hx': (7,), \n",
      "       'site100_Hy': (8,), 'B': (2, 3), \n",
      "       'E': (0, 1), 'Bremote': (5, 7, 8, 6)}\n",
      "----------  -------------------  -------------------\n",
      "  sampling                start                 stop\n",
      "       128  2016-04-28 19:00:00  2016-04-29 06:46:22\n",
      "----------  -------------------  -------------------\n",
      "starting frequency 0.01\n",
      "starting frequency 0.0138104\n",
      "starting frequency 0.0190727\n",
      "starting frequency 0.0263401\n",
      "starting frequency 0.0363768\n",
      "starting frequency 0.0502377\n",
      "starting frequency 0.0693803\n",
      "starting frequency 0.0958169\n",
      "starting frequency 0.132327\n",
      "starting frequency 0.182749\n",
      "starting frequency 0.252383\n",
      "starting frequency 0.348551\n",
      "starting frequency 0.481362\n",
      "starting frequency 0.66478\n",
      "starting frequency 0.918087\n",
      "starting frequency 1.26791\n",
      "starting frequency 1.75104\n",
      "starting frequency 2.41825\n",
      "starting frequency 3.3397\n",
      "starting frequency 4.61226\n",
      "starting frequency 6.36971\n",
      "starting frequency 8.79683\n",
      "starting frequency 12.1488\n",
      "starting frequency 16.7779\n",
      "starting frequency 23.171\n",
      "starting frequency 32\n",
      "(26, 2, 2)\n"
     ]
    }
   ],
   "source": [
    "sig = prepare_signalset(inv, 'site002', ['site100', 'site099'])\n",
    "print(sig)\n",
    "Imp = rb.utils.impedance(sig, freq ,remote='Bremote' )\n",
    "print(Imp.impedance.shape)"
   ]
  },
  {
   "cell_type": "code",
   "execution_count": null,
   "metadata": {},
   "outputs": [],
   "source": []
  },
  {
   "cell_type": "code",
   "execution_count": 50,
   "metadata": {},
   "outputs": [
    {
     "data": {
      "image/png": "[encoded data removed]",
      "text/plain": [
       "<Figure size 432x288 with 1 Axes>"
      ]
     },
     "metadata": {
      "needs_background": "light"
     },
     "output_type": "display_data"
    }
   ],
   "source": [
    "plt.loglog(freq,1e12*np.abs(Imp.impedance[:,0,1])**2/freq,'r.')\n",
    "plt.loglog(freq,1e12*np.abs(Imp.impedance[:,1,0])**2/freq,'b.')\n",
    "plt.xlabel('freq')\n",
    "plt.ylabel(r'apparent resistivity $\\rho$ ($\\Omega.m$)');"
   ]
  },
  {
   "cell_type": "code",
   "execution_count": 54,
   "metadata": {},
   "outputs": [
    {
     "name": "stdout",
     "output_type": "stream",
     "text": [
      "SignalSet: 9 channels, 1 run\n",
      "tags: {'site002_Ex': (0,), 'site002_Ey': (1,), \n",
      "       'site002_Hx': (2,), 'site002_Hy': (3,), \n",
      "       'site002_Hz': (4,), 'site099_Hx': (5,), \n",
      "       'site099_Hy': (6,), 'site100_Hx': (7,), \n",
      "       'site100_Hy': (8,), 'B': (2, 3), \n",
      "       'E': (0, 1), 'Bremote': (5, 7, 8, 6)}\n",
      "----------  -------------------  -------------------\n",
      "  sampling                start                 stop\n",
      "       128  2016-04-28 19:00:00  2016-04-29 06:46:22\n",
      "----------  -------------------  -------------------\n",
      "starting frequency 0.01\n",
      "Matrix is singular.\n",
      "starting frequency 0.0138104\n"
     ]
    },
    {
     "name": "stderr",
     "output_type": "stream",
     "text": [
      "C:\\Users\\wawrzyniak\\AppData\\Local\\Continuum\\anaconda3\\lib\\site-packages\\razorback\\mestimator.py:304: LinAlgWarning: Ill-conditioned matrix (rcond=3.04044e-19): result may not be accurate.\n",
      "  return linalg.solve(A, rhs)\n",
      "C:\\Users\\wawrzyniak\\AppData\\Local\\Continuum\\anaconda3\\lib\\site-packages\\numpy\\lib\\function_base.py:3405: RuntimeWarning: All-NaN slice encountered\n",
      "  r = func(a, **kwargs)\n",
      "C:\\Users\\wawrzyniak\\AppData\\Local\\Continuum\\anaconda3\\lib\\site-packages\\razorback\\weights.py:117: LinAlgWarning: Ill-conditioned matrix (rcond=3.04044e-19): result may not be accurate.\n",
      "  h = _prev['bi_weight'] * np.sum(linalg.solve(A, H(b)) * b.T, axis=0).real\n"
     ]
    },
    {
     "name": "stdout",
     "output_type": "stream",
     "text": [
      "Matrix is singular.\n",
      "starting frequency 0.0190727\n"
     ]
    },
    {
     "name": "stderr",
     "output_type": "stream",
     "text": [
      "C:\\Users\\wawrzyniak\\AppData\\Local\\Continuum\\anaconda3\\lib\\site-packages\\razorback\\mestimator.py:304: LinAlgWarning: Ill-conditioned matrix (rcond=3.3398e-19): result may not be accurate.\n",
      "  return linalg.solve(A, rhs)\n",
      "C:\\Users\\wawrzyniak\\AppData\\Local\\Continuum\\anaconda3\\lib\\site-packages\\razorback\\weights.py:117: LinAlgWarning: Ill-conditioned matrix (rcond=3.3398e-19): result may not be accurate.\n",
      "  h = _prev['bi_weight'] * np.sum(linalg.solve(A, H(b)) * b.T, axis=0).real\n"
     ]
    },
    {
     "name": "stdout",
     "output_type": "stream",
     "text": [
      "Matrix is singular.\n",
      "starting frequency 0.0263401\n",
      "Matrix is singular.\n",
      "starting frequency 0.0363768\n",
      "Matrix is singular.\n",
      "starting frequency 0.0502377\n",
      "Matrix is singular.\n",
      "starting frequency 0.0693803\n"
     ]
    },
    {
     "name": "stderr",
     "output_type": "stream",
     "text": [
      "C:\\Users\\wawrzyniak\\AppData\\Local\\Continuum\\anaconda3\\lib\\site-packages\\razorback\\mestimator.py:304: LinAlgWarning: Ill-conditioned matrix (rcond=1.54533e-20): result may not be accurate.\n",
      "  return linalg.solve(A, rhs)\n",
      "C:\\Users\\wawrzyniak\\AppData\\Local\\Continuum\\anaconda3\\lib\\site-packages\\numpy\\lib\\function_base.py:3405: RuntimeWarning: All-NaN slice encountered\n",
      "  r = func(a, **kwargs)\n",
      "C:\\Users\\wawrzyniak\\AppData\\Local\\Continuum\\anaconda3\\lib\\site-packages\\razorback\\weights.py:117: LinAlgWarning: Ill-conditioned matrix (rcond=1.54533e-20): result may not be accurate.\n",
      "  h = _prev['bi_weight'] * np.sum(linalg.solve(A, H(b)) * b.T, axis=0).real\n",
      "C:\\Users\\wawrzyniak\\AppData\\Local\\Continuum\\anaconda3\\lib\\site-packages\\razorback\\weights.py:120: RuntimeWarning: invalid value encountered in log\n",
      "  hat_weight = _prev['hat_weight'] * expexp(y, self._khi) * expexp(np.log(y), np.log(self._lower))\n"
     ]
    },
    {
     "name": "stdout",
     "output_type": "stream",
     "text": [
      "Matrix is singular.\n",
      "starting frequency 0.0958169\n"
     ]
    },
    {
     "name": "stderr",
     "output_type": "stream",
     "text": [
      "C:\\Users\\wawrzyniak\\AppData\\Local\\Continuum\\anaconda3\\lib\\site-packages\\razorback\\mestimator.py:304: LinAlgWarning: Ill-conditioned matrix (rcond=2.00717e-18): result may not be accurate.\n",
      "  return linalg.solve(A, rhs)\n",
      "C:\\Users\\wawrzyniak\\AppData\\Local\\Continuum\\anaconda3\\lib\\site-packages\\numpy\\lib\\function_base.py:3405: RuntimeWarning: All-NaN slice encountered\n",
      "  r = func(a, **kwargs)\n",
      "C:\\Users\\wawrzyniak\\AppData\\Local\\Continuum\\anaconda3\\lib\\site-packages\\razorback\\weights.py:117: LinAlgWarning: Ill-conditioned matrix (rcond=2.00717e-18): result may not be accurate.\n",
      "  h = _prev['bi_weight'] * np.sum(linalg.solve(A, H(b)) * b.T, axis=0).real\n"
     ]
    },
    {
     "name": "stdout",
     "output_type": "stream",
     "text": [
      "Matrix is singular.\n",
      "starting frequency 0.132327\n"
     ]
    },
    {
     "name": "stderr",
     "output_type": "stream",
     "text": [
      "C:\\Users\\wawrzyniak\\AppData\\Local\\Continuum\\anaconda3\\lib\\site-packages\\razorback\\mestimator.py:304: LinAlgWarning: Ill-conditioned matrix (rcond=1.93081e-18): result may not be accurate.\n",
      "  return linalg.solve(A, rhs)\n",
      "C:\\Users\\wawrzyniak\\AppData\\Local\\Continuum\\anaconda3\\lib\\site-packages\\numpy\\lib\\function_base.py:3405: RuntimeWarning: All-NaN slice encountered\n",
      "  r = func(a, **kwargs)\n",
      "C:\\Users\\wawrzyniak\\AppData\\Local\\Continuum\\anaconda3\\lib\\site-packages\\razorback\\weights.py:117: LinAlgWarning: Ill-conditioned matrix (rcond=1.93081e-18): result may not be accurate.\n",
      "  h = _prev['bi_weight'] * np.sum(linalg.solve(A, H(b)) * b.T, axis=0).real\n"
     ]
    },
    {
     "name": "stdout",
     "output_type": "stream",
     "text": [
      "Matrix is singular.\n",
      "starting frequency 0.182749\n",
      "Matrix is singular.\n",
      "starting frequency 0.252383\n",
      "Matrix is singular.\n",
      "starting frequency 0.348551\n",
      "failed to converge (maxit=100). while processing step 3 (weighting=1).\n",
      "starting frequency 0.481362\n",
      "failed to converge (maxit=100). while processing step 3 (weighting=1).\n",
      "starting frequency 0.66478\n",
      "failed to converge (maxit=100). while processing step 3 (weighting=1).\n",
      "starting frequency 0.918087\n",
      "Matrix is singular.\n",
      "starting frequency 1.26791\n",
      "failed to converge (maxit=100). while processing step 3 (weighting=1).\n",
      "starting frequency 1.75104\n",
      "Matrix is singular.\n",
      "starting frequency 2.41825\n",
      "failed to converge (maxit=100). while processing step 3 (weighting=1).\n",
      "starting frequency 3.3397\n",
      "failed to converge (maxit=100). while processing step 3 (weighting=1).\n",
      "starting frequency 4.61226\n",
      "failed to converge (maxit=100). while processing step 3 (weighting=1).\n",
      "starting frequency 6.36971\n",
      "failed to converge (maxit=100). while processing step 3 (weighting=1).\n",
      "starting frequency 8.79683\n",
      "failed to converge (maxit=100). while processing step 3 (weighting=1).\n",
      "starting frequency 12.1488\n",
      "failed to converge (maxit=100). while processing step 3 (weighting=1).\n",
      "starting frequency 16.7779\n",
      "failed to converge (maxit=100). while processing step 3 (weighting=1).\n",
      "starting frequency 23.171\n",
      "failed to converge (maxit=100). while processing step 3 (weighting=1).\n",
      "starting frequency 32\n",
      "failed to converge (maxit=100). while processing step 3 (weighting=1).\n",
      "(26, 2, 2)\n"
     ]
    }
   ],
   "source": [
    "from razorback.weights import bi_weights\n",
    "\n",
    "sig = prepare_signalset(inv, 'site002', ['site100', 'site099'])\n",
    "print(sig)\n",
    "ImpBI = rb.utils.impedance(\n",
    "    sig, freq,\n",
    "     weights=bi_weights(0.1, 3),  # bounded influence with reject probability of 10% and 3 steps\n",
    "    remote='Bremote' # including the remotes references in the coputation\n",
    ")\n",
    "print(ImpBI.impedance.shape)"
   ]
  }
 ],
 "metadata": {
  "kernelspec": {
   "display_name": "Python 3",
   "language": "python",
   "name": "python3"
  },
  "language_info": {
   "codemirror_mode": {
    "name": "ipython",
    "version": 3
   },
   "file_extension": ".py",
   "mimetype": "text/x-python",
   "name": "python",
   "nbconvert_exporter": "python",
   "pygments_lexer": "ipython3",
   "version": "3.7.4"
  }
 },
 "nbformat": 4,
 "nbformat_minor": 4
}
