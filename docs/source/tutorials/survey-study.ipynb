{
 "cells": [
  {
   "cell_type": "code",
   "execution_count": 1,
   "metadata": {},
   "outputs": [],
   "source": [
    "import razorback as rb"
   ]
  },
  {
   "cell_type": "code",
   "execution_count": 2,
   "metadata": {},
   "outputs": [],
   "source": [
    "def sensor(ats_file):\n",
    "    header = rb.io.ats.read_ats_header(ats_file)\n",
    "    chan = header['channel_type'].decode()\n",
    "    stype = ''.join(c for c in header['sensor_type'].decode() if c.isprintable())\n",
    "    snum = header['sensor_serial_number']\n",
    "    sampling_rate = header['sampling_rate']\n",
    "    x1, y1, z1 = header['x1'], header['y1'], header['z1']\n",
    "    x2, y2, z2 = header['x2'], header['y2'], header['z2']\n",
    "    L = ((x1-x2)**2 + (y1-y2)**2 + (z1-z2)**2)**.5\n",
    "    return chan, L, stype, snum, sampling_rate"
   ]
  },
  {
   "cell_type": "code",
   "execution_count": 3,
   "metadata": {},
   "outputs": [],
   "source": [
    "def calibration(ats_file, name_converter=None):\n",
    "    chan, L, stype, snum, sampling_rate = sensor(ats_file)\n",
    "    if chan in ('Ex', 'Ey'):\n",
    "        return L\n",
    "    elif chan in ('Hx', 'Hy', 'Hz'):\n",
    "        calib_name = f\"{stype}{snum:03d}.txt\"\n",
    "        if name_converter:\n",
    "            calib_name = name_converter.get(calib_name, calib_name)\n",
    "        return rb.calibrations.metronix(calib_name, sampling_rate)\n",
    "    raise Exception(f\"Unknown channel name: {chan}\")"
   ]
  },
  {
   "cell_type": "code",
   "execution_count": 4,
   "metadata": {},
   "outputs": [],
   "source": [
    "import glob\n",
    "\n",
    "files = glob.glob(\"data/site*/*/*.ats\")\n",
    "pattern = \"*/site{site}/*/*_T{channel}_*.ats\"\n",
    "tag_template = \"site{site}_{channel}\"\n",
    "\n",
    "name_converter = {\n",
    "    'UNKN_H104.txt': 'MFS07104.txt',\n",
    "    'UNKN_H105.txt': 'MFS07105.txt',\n",
    "}\n",
    "\n",
    "inv = rb.Inventory()\n",
    "for fname, [tag] in rb.utils.tags_from_path(files, pattern, tag_template):\n",
    "    calib = calibration(fname, name_converter)\n",
    "    signal = rb.io.ats.load_ats([fname], [calib], lazy=True)\n",
    "    inv.append(rb.SignalSet({tag:0}, signal))"
   ]
  },
  {
   "cell_type": "code",
   "execution_count": 5,
   "metadata": {},
   "outputs": [
    {
     "data": {
      "text/plain": [
       "26"
      ]
     },
     "execution_count": 5,
     "metadata": {},
     "output_type": "execute_result"
    }
   ],
   "source": [
    "len(inv)"
   ]
  },
  {
   "cell_type": "code",
   "execution_count": 6,
   "metadata": {},
   "outputs": [
    {
     "data": {
      "text/plain": [
       "{'site002_Ex',\n",
       " 'site002_Ey',\n",
       " 'site002_Hx',\n",
       " 'site002_Hy',\n",
       " 'site002_Hz',\n",
       " 'site004_Ex',\n",
       " 'site004_Ey',\n",
       " 'site004_Hx',\n",
       " 'site004_Hy',\n",
       " 'site004_Hz',\n",
       " 'site006_Ex',\n",
       " 'site006_Ey',\n",
       " 'site006_Hx',\n",
       " 'site006_Hy',\n",
       " 'site006_Hz',\n",
       " 'site009_Ex',\n",
       " 'site009_Ey',\n",
       " 'site009_Hx',\n",
       " 'site009_Hy',\n",
       " 'site009_Hz',\n",
       " 'site099_Hx',\n",
       " 'site099_Hy',\n",
       " 'site100_Ex',\n",
       " 'site100_Ey',\n",
       " 'site100_Hx',\n",
       " 'site100_Hy'}"
      ]
     },
     "execution_count": 6,
     "metadata": {},
     "output_type": "execute_result"
    }
   ],
   "source": [
    "inv.tags"
   ]
  },
  {
   "cell_type": "code",
   "execution_count": 7,
   "metadata": {},
   "outputs": [
    {
     "name": "stdout",
     "output_type": "stream",
     "text": [
      "SignalSet: 5 channels, 1 run\n",
      "tags: {'site002_Ex': (0,), 'site002_Ey': (1,), \n",
      "       'site002_Hx': (2,), 'site002_Hy': (3,), \n",
      "       'site002_Hz': (4,)}\n",
      "----------  -------------------  -------------------\n",
      "  sampling                start                 stop\n",
      "       128  2016-04-28 08:20:00  2016-04-29 06:46:22\n",
      "----------  -------------------  -------------------\n"
     ]
    }
   ],
   "source": [
    "print(inv.filter('site002*').pack())"
   ]
  },
  {
   "cell_type": "code",
   "execution_count": 8,
   "metadata": {},
   "outputs": [
    {
     "name": "stdout",
     "output_type": "stream",
     "text": [
      "SignalSet: 2 channels, 1 run\n",
      "tags: {'site099_Hx': (0,), 'site099_Hy': (1,)}\n",
      "----------  -------------------  -------------------\n",
      "  sampling                start                 stop\n",
      "       128  2016-04-28 19:00:00  2016-04-29 17:59:00\n",
      "----------  -------------------  -------------------\n"
     ]
    }
   ],
   "source": [
    "print(inv.filter('site099*').pack())"
   ]
  },
  {
   "cell_type": "code",
   "execution_count": 9,
   "metadata": {
    "scrolled": true
   },
   "outputs": [
    {
     "name": "stdout",
     "output_type": "stream",
     "text": [
      "SignalSet: 26 channels, 1 run\n",
      "tags: {'site002_Ex': (0,), 'site002_Ey': (1,), \n",
      "       'site002_Hx': (2,), 'site002_Hy': (3,), \n",
      "       'site002_Hz': (4,), 'site004_Ex': (5,), \n",
      "       'site004_Ey': (6,), 'site004_Hx': (7,), \n",
      "       'site004_Hy': (8,), 'site004_Hz': (9,), \n",
      "       'site006_Ex': (10,), 'site006_Ey': (11,), \n",
      "       'site006_Hx': (12,), 'site006_Hy': (13,), \n",
      "       'site006_Hz': (14,), 'site009_Ex': (15,), \n",
      "       'site009_Ey': (16,), 'site009_Hx': (17,), \n",
      "       'site009_Hy': (18,), 'site009_Hz': (19,), \n",
      "       'site099_Hx': (20,), 'site099_Hy': (21,), \n",
      "       'site100_Ex': (22,), 'site100_Ey': (23,), \n",
      "       'site100_Hx': (24,), 'site100_Hy': (25,)}\n",
      "----------  -------------------  -------------------\n",
      "  sampling                start                 stop\n",
      "       128  2016-04-28 19:00:00  2016-04-29 04:00:05\n",
      "----------  -------------------  -------------------\n"
     ]
    }
   ],
   "source": [
    "print(inv.pack())"
   ]
  },
  {
   "cell_type": "code",
   "execution_count": 10,
   "metadata": {},
   "outputs": [],
   "source": [
    "from itertools import chain\n",
    "\n",
    "def prepare_signalset(inventory, local_site, remote_sites):\n",
    "    patterns = (f\"{e}*\" for e in [local_site, *remote_sites])\n",
    "    signalset = inventory.filter(*patterns).pack()\n",
    "    tags = signalset.tags\n",
    "    tags[\"E\"] = tags[f\"{local_site}_Ex\"] + tags[f\"{local_site}_Ey\"]\n",
    "    tags[\"B\"] = tags[f\"{local_site}_Hx\"] + tags[f\"{local_site}_Hy\"]\n",
    "    if remote_sites:\n",
    "        remote_names = tags.filter(*chain(*(\n",
    "            (f\"{e}_Hx\", f\"{e}_Hy\") for e in remote_sites\n",
    "        )))\n",
    "        tags[\"Bremote\"] = sum((tags[n] for n in remote_names), ())\n",
    "    return signalset"
   ]
  },
  {
   "cell_type": "code",
   "execution_count": 11,
   "metadata": {
    "scrolled": true
   },
   "outputs": [
    {
     "name": "stdout",
     "output_type": "stream",
     "text": [
      "SignalSet: 11 channels, 1 run\n",
      "tags: {'site002_Ex': (0,), 'site002_Ey': (1,), \n",
      "       'site002_Hx': (2,), 'site002_Hy': (3,), \n",
      "       'site002_Hz': (4,), 'site099_Hx': (5,), \n",
      "       'site099_Hy': (6,), 'site100_Ex': (7,), \n",
      "       'site100_Ey': (8,), 'site100_Hx': (9,), \n",
      "       'site100_Hy': (10,), 'B': (2, 3), \n",
      "       'E': (0, 1), 'Bremote': (10, 6, 5, 9)}\n",
      "----------  -------------------  -------------------\n",
      "  sampling                start                 stop\n",
      "       128  2016-04-28 19:00:00  2016-04-29 06:46:22\n",
      "----------  -------------------  -------------------\n"
     ]
    }
   ],
   "source": [
    "print(prepare_signalset(inv, 'site002', ['site100', 'site099']))"
   ]
  },
  {
   "cell_type": "code",
   "execution_count": 12,
   "metadata": {},
   "outputs": [
    {
     "name": "stdout",
     "output_type": "stream",
     "text": [
      "SignalSet: 5 channels, 1 run\n",
      "tags: {'site002_Ex': (0,), 'site002_Ey': (1,), \n",
      "       'site002_Hx': (2,), 'site002_Hy': (3,), \n",
      "       'site002_Hz': (4,), 'B': (2, 3), \n",
      "       'E': (0, 1)}\n",
      "----------  -------------------  -------------------\n",
      "  sampling                start                 stop\n",
      "       128  2016-04-28 08:20:00  2016-04-29 06:46:22\n",
      "----------  -------------------  -------------------\n"
     ]
    }
   ],
   "source": [
    "sig = prepare_signalset(inv, 'site002', [])\n",
    "print(sig)"
   ]
  },
  {
   "cell_type": "code",
   "execution_count": 13,
   "metadata": {},
   "outputs": [
    {
     "name": "stdout",
     "output_type": "stream",
     "text": [
      "starting frequency 10\n",
      "starting frequency 20\n",
      "starting frequency 30\n"
     ]
    },
    {
     "data": {
      "text/plain": [
       "ImpedanceResult(impedance=array([[[-4.18992617e-06-4.13804525e-06j,\n",
       "         -1.84279022e-06-1.59718126e-06j],\n",
       "        [ 1.58132062e-05+1.07571335e-05j,\n",
       "          4.28783119e-06+2.45357319e-06j]],\n",
       "\n",
       "       [[-2.58332218e-06-5.92987407e-06j,\n",
       "         -3.28932050e-06-3.40490004e-06j],\n",
       "        [ 1.90845256e-05+2.24987199e-05j,\n",
       "          2.86747376e-06+3.50877337e-06j]],\n",
       "\n",
       "       [[-3.04219023e-06-2.77350932e-06j,\n",
       "         -1.86932661e-07-1.89030199e-07j],\n",
       "        [ 9.79103966e-06+7.84426644e-06j,\n",
       "          4.21095006e-07+3.57852364e-07j]]]), invalid_time=[(array([], dtype=float64), array([], dtype=float64)), (array([], dtype=float64), array([], dtype=float64)), (array([], dtype=float64), array([], dtype=float64))], error=array([[[2.56056577e-08, 1.12961713e-08],\n",
       "        [4.34611517e-08, 1.91732867e-08]],\n",
       "\n",
       "       [[3.40400194e-08, 1.45057873e-08],\n",
       "        [2.84216559e-08, 1.21115822e-08]],\n",
       "\n",
       "       [[1.22844288e-08, 1.94635704e-09],\n",
       "        [2.12291263e-08, 3.36356376e-09]]]))"
      ]
     },
     "execution_count": 13,
     "metadata": {},
     "output_type": "execute_result"
    }
   ],
   "source": [
    "rb.utils.impedance(sig, [10, 20, 30])"
   ]
  }
 ],
 "metadata": {
  "kernelspec": {
   "display_name": "Python 3",
   "language": "python",
   "name": "python3"
  },
  "language_info": {
   "codemirror_mode": {
    "name": "ipython",
    "version": 3
   },
   "file_extension": ".py",
   "mimetype": "text/x-python",
   "name": "python",
   "nbconvert_exporter": "python",
   "pygments_lexer": "ipython3",
   "version": "3.8.2"
  }
 },
 "nbformat": 4,
 "nbformat_minor": 4
}
